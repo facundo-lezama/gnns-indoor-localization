{
 "cells": [
  {
   "cell_type": "markdown",
   "metadata": {
    "id": "vp0qGc5z4AOk"
   },
   "source": [
    "# MNAV - Simple GNN"
   ]
  },
  {
   "cell_type": "markdown",
   "metadata": {
    "id": "oDifkXbM4UUX"
   },
   "source": [
    "Dataset: MNAV\n",
    "\n",
    "Modelo: GNN simple"
   ]
  },
  {
   "cell_type": "markdown",
   "metadata": {
    "id": "n4qV8TIQYl62"
   },
   "source": [
    "## Importar Datos"
   ]
  },
  {
   "cell_type": "code",
   "execution_count": null,
   "metadata": {
    "executionInfo": {
     "elapsed": 27989,
     "status": "ok",
     "timestamp": 1635510361213,
     "user": {
      "displayName": "Facundo Lezama",
      "photoUrl": "https://lh3.googleusercontent.com/a-/AOh14GjvX7z6H8HKQ9Q4HSRF20NaPjvwtJ3pQh0TGed2XQ=s64",
      "userId": "08104556030349101598"
     },
     "user_tz": 180
    },
    "id": "OjHf3j75Agti"
   },
   "outputs": [],
   "source": [
    "import pandas as pd\n",
    "import numpy as np\n",
    "import scipy\n",
    "import matplotlib.pyplot as plt\n",
    "from sklearn.model_selection import train_test_split\n",
    "from sklearn.preprocessing import StandardScaler\n",
    "from sklearn.neighbors import KNeighborsClassifier\n",
    "from sklearn.metrics import accuracy_score, classification_report\n",
    "from itertools import combinations\n",
    "from copy import deepcopy\n",
    "from sklearn.neural_network import MLPClassifier\n",
    "from sklearn.tree import DecisionTreeClassifier\n",
    "from sklearn.svm import SVC\n",
    "from sklearn.ensemble import RandomForestClassifier, AdaBoostClassifier\n",
    "from sklearn.metrics import confusion_matrix\n",
    "import seaborn as sns\n",
    "from sklearn.model_selection import KFold\n",
    "from sklearn.model_selection import ParameterGrid\n",
    "import torch\n",
    "import networkx as nx\n",
    "from sklearn.preprocessing import OrdinalEncoder"
   ]
  },
  {
   "cell_type": "markdown",
   "metadata": {
    "id": "cMFznhF9wDxB"
   },
   "source": [
    "El dataset se encuentra disponible en https://github.com/ffedee7/posifi_mnav/tree/master/data_analysis. El dataset disponible está anonimizado pero se puede deshacer con el código de ese repositorio."
   ]
  },
  {
   "cell_type": "code",
   "execution_count": null,
   "metadata": {
    "executionInfo": {
     "elapsed": 1270,
     "status": "ok",
     "timestamp": 1635454213295,
     "user": {
      "displayName": "Facundo Lezama",
      "photoUrl": "https://lh3.googleusercontent.com/a-/AOh14GjvX7z6H8HKQ9Q4HSRF20NaPjvwtJ3pQh0TGed2XQ=s64",
      "userId": "08104556030349101598"
     },
     "user_tz": 180
    },
    "id": "jXw5-YfeAgtp"
   },
   "outputs": [],
   "source": [
    "dataset = 'datos2.csv'\n",
    "df = pd.read_csv(dataset)"
   ]
  },
  {
   "cell_type": "code",
   "execution_count": null,
   "metadata": {
    "colab": {
     "base_uri": "https://localhost:8080/",
     "height": 383
    },
    "executionInfo": {
     "elapsed": 1105,
     "status": "ok",
     "timestamp": 1635454214395,
     "user": {
      "displayName": "Facundo Lezama",
      "photoUrl": "https://lh3.googleusercontent.com/a-/AOh14GjvX7z6H8HKQ9Q4HSRF20NaPjvwtJ3pQh0TGed2XQ=s64",
      "userId": "08104556030349101598"
     },
     "user_tz": 180
    },
    "id": "OIhn7QSoAgtq",
    "outputId": "37bf3f47-b29c-4af5-aec4-a23a675b0eef"
   },
   "outputs": [],
   "source": [
    "print(df.shape)\n",
    "df.describe()"
   ]
  },
  {
   "cell_type": "code",
   "execution_count": null,
   "metadata": {
    "colab": {
     "base_uri": "https://localhost:8080/",
     "height": 272
    },
    "executionInfo": {
     "elapsed": 19,
     "status": "ok",
     "timestamp": 1635454214396,
     "user": {
      "displayName": "Facundo Lezama",
      "photoUrl": "https://lh3.googleusercontent.com/a-/AOh14GjvX7z6H8HKQ9Q4HSRF20NaPjvwtJ3pQh0TGed2XQ=s64",
      "userId": "08104556030349101598"
     },
     "user_tz": 180
    },
    "id": "hDAHd9mXpwec",
    "outputId": "dbf5f05a-eb40-47e6-c075-1e7fd39f104f"
   },
   "outputs": [],
   "source": [
    "df.head()"
   ]
  },
  {
   "cell_type": "markdown",
   "metadata": {
    "id": "gfqVFAK32Th4"
   },
   "source": [
    "## Preprocesamiento"
   ]
  },
  {
   "cell_type": "markdown",
   "metadata": {
    "id": "CL6O8p3ZERrS"
   },
   "source": [
    "Se definen los APs que se quieren usar tanto para la construcción del grafo como para el modelo.\n",
    "\n",
    "En este caso usamos solamente los APs que se encuentran dentro del MNAV, es decir que descartamos los APs que aparecen en las medidas pero que no son los que se instalaron."
   ]
  },
  {
   "cell_type": "code",
   "execution_count": null,
   "metadata": {
    "executionInfo": {
     "elapsed": 17,
     "status": "ok",
     "timestamp": 1635454214396,
     "user": {
      "displayName": "Facundo Lezama",
      "photoUrl": "https://lh3.googleusercontent.com/a-/AOh14GjvX7z6H8HKQ9Q4HSRF20NaPjvwtJ3pQh0TGed2XQ=s64",
      "userId": "08104556030349101598"
     },
     "user_tz": 180
    },
    "id": "ynWQ8U8z50to"
   },
   "outputs": [],
   "source": [
    "APs_MAC_2_4 = ['wifi-dc:a5:f4:43:85:c0',\n",
    "'wifi-dc:a5:f4:43:27:e0',\n",
    "'wifi-f8:4f:57:ab:da:00',\n",
    "'wifi-5c:a4:8a:4c:05:c0',\n",
    "'wifi-1c:1d:86:ce:ef:b0',\n",
    "'wifi-dc:a5:f4:43:79:20',\n",
    "'wifi-c0:7b:bc:36:9e:10',\n",
    "'wifi-1c:1d:86:9f:99:20',\n",
    "'wifi-c0:7b:bc:36:af:40',\n",
    "'wifi-c0:7b:bc:36:af:80',\n",
    "'wifi-1c:1d:86:b6:ac:80',\n",
    "'wifi-dc:a5:f4:43:72:e0',\n",
    "'wifi-f8:4f:57:ab:d8:60',\n",
    "'wifi-dc:a5:f4:43:72:90',\n",
    "'wifi-f8:4f:57:ab:ce:20']\n",
    "\n",
    "APs_MAC_5 = ['wifi-dc:a5:f4:45:85:b0',\n",
    "'wifi-dc:a5:f4:45:27:e0',\n",
    "'wifi-f8:4f:57:ad:d9:60',\n",
    "'wifi-5c:a4:8a:4e:05:30',\n",
    "'wifi-1c:1d:86:d0:ef:00',\n",
    "'wifi-dc:a5:f4:45:79:10',\n",
    "'wifi-c0:7b:bc:38:9e:00',\n",
    "'wifi-1c:1d:86:a1:99:00',\n",
    "'wifi-c0:7b:bc:38:af:30',\n",
    "'wifi-c0:7b:bc:38:af:70',\n",
    "'wifi-1c:1d:86:b8:ac:80',\n",
    "'wifi-dc:a5:f4:45:72:d0',\n",
    "'wifi-f8:4f:57:ad:d7:c0',\n",
    "'wifi-dc:a5:f4:45:72:80',\n",
    "'wifi-f8:4f:57:ad:cd:80']"
   ]
  },
  {
   "cell_type": "code",
   "execution_count": null,
   "metadata": {
    "executionInfo": {
     "elapsed": 18,
     "status": "ok",
     "timestamp": 1635454214397,
     "user": {
      "displayName": "Facundo Lezama",
      "photoUrl": "https://lh3.googleusercontent.com/a-/AOh14GjvX7z6H8HKQ9Q4HSRF20NaPjvwtJ3pQh0TGed2XQ=s64",
      "userId": "08104556030349101598"
     },
     "user_tz": 180
    },
    "id": "q0BCpSLFAgts"
   },
   "outputs": [],
   "source": [
    "# paso los NaN a 0\n",
    "df = df.fillna(0) \n",
    "\n",
    "# sumo 100 a los valores de RSSI y ahora 0 es el minimo\n",
    "df.iloc[:,1:] = 100 + df.iloc[:,1:] \n",
    "values = df.iloc[:,1:]\n",
    "\n",
    "# las medidas originales en 0 las asumo como que estaban muy lejos\n",
    "# entonces las dejo en 0 que es el nuevo valor minimo\n",
    "values[values==100] = 0 \n",
    "df.iloc[:,1:] = values\n",
    "\n",
    "\n",
    "##### TO DRAW DISTRIBUTIONS ######\n",
    "\n",
    "# df.iloc[:,1:] = df.iloc[:,1:] - 100\n",
    "\n",
    "#########################\n",
    "\n",
    "\n",
    "# armo dos datsets: uno con las medidas solamente de la frecuencia\n",
    "# 2.4GHz y otro con las frecuencias 2.4GHz y 5GHz\n",
    "data_2_4 = df[['location'] + APs_MAC_2_4] # REVISAR PORQUE CREO QUE NO LO VUELVO A USAR\n",
    "data_2_4_5 = df[['location'] + APs_MAC_2_4 + APs_MAC_5]"
   ]
  },
  {
   "cell_type": "markdown",
   "metadata": {
    "id": "lw4tuIQCJwh2"
   },
   "source": [
    "**(VALE LA PENA UN ORDINAL ENCODER???? NO ME CONVIENE HACERLO A MANO Y MANTENER EL 1 CON LOCATION_1 Y DEMAS?)**\n"
   ]
  },
  {
   "cell_type": "code",
   "execution_count": null,
   "metadata": {
    "colab": {
     "base_uri": "https://localhost:8080/"
    },
    "executionInfo": {
     "elapsed": 17,
     "status": "ok",
     "timestamp": 1635454214397,
     "user": {
      "displayName": "Facundo Lezama",
      "photoUrl": "https://lh3.googleusercontent.com/a-/AOh14GjvX7z6H8HKQ9Q4HSRF20NaPjvwtJ3pQh0TGed2XQ=s64",
      "userId": "08104556030349101598"
     },
     "user_tz": 180
    },
    "id": "YNwPr_lK81-j",
    "outputId": "2cd6f380-5089-4a31-d959-a0a0155bd800"
   },
   "outputs": [],
   "source": [
    "# paso las zonas por un ordinal encoder\n",
    "enc = OrdinalEncoder(dtype=int)\n",
    "y = enc.fit_transform(data_2_4_5['location'].values.reshape(-1,1))\n",
    "X = data_2_4_5.iloc[:,1:].values\n",
    "\n",
    "print(enc.categories_)"
   ]
  },
  {
   "cell_type": "code",
   "execution_count": null,
   "metadata": {
    "executionInfo": {
     "elapsed": 16,
     "status": "ok",
     "timestamp": 1635454214398,
     "user": {
      "displayName": "Facundo Lezama",
      "photoUrl": "https://lh3.googleusercontent.com/a-/AOh14GjvX7z6H8HKQ9Q4HSRF20NaPjvwtJ3pQh0TGed2XQ=s64",
      "userId": "08104556030349101598"
     },
     "user_tz": 180
    },
    "id": "ReUhiYTXx7fS"
   },
   "outputs": [],
   "source": [
    "# ESTO ES UNA PRUEBA PARA VER SI UN SHUFFLE DE LOS DATOS MEJORA LA PERFORMANCE\n",
    "# dfaux = pd.DataFrame(X)\n",
    "# dfaux['30'] = y\n",
    "# subsample = dfaux.sample(frac=1, random_state=99)\n",
    "# y = subsample.iloc[:, -1].values.reshape(-1,1)\n",
    "# X = subsample.iloc[:, :-1].values"
   ]
  },
  {
   "cell_type": "code",
   "execution_count": null,
   "metadata": {
    "colab": {
     "base_uri": "https://localhost:8080/"
    },
    "executionInfo": {
     "elapsed": 17,
     "status": "ok",
     "timestamp": 1635454214399,
     "user": {
      "displayName": "Facundo Lezama",
      "photoUrl": "https://lh3.googleusercontent.com/a-/AOh14GjvX7z6H8HKQ9Q4HSRF20NaPjvwtJ3pQh0TGed2XQ=s64",
      "userId": "08104556030349101598"
     },
     "user_tz": 180
    },
    "id": "gON2FKdZJqjn",
    "outputId": "1b9017c0-62a4-4d86-bc6d-7eeb1bc7a1cb"
   },
   "outputs": [],
   "source": [
    "# separo el dataset en train y test 80-20\n",
    "X_train, X_test, y_train, y_test = train_test_split(X, y, test_size=0.2, random_state=42)\n",
    "\n",
    "print(X_train.shape)"
   ]
  },
  {
   "cell_type": "markdown",
   "metadata": {
    "id": "fmC2Dsazdx7i"
   },
   "source": [
    "## Grafo"
   ]
  },
  {
   "cell_type": "markdown",
   "metadata": {
    "id": "cF2ZViCq3a_Q"
   },
   "source": [
    "En las siguientes celdas se describe un poco el dataset y se muestran las distribuciones de potencia por AP."
   ]
  },
  {
   "cell_type": "code",
   "execution_count": null,
   "metadata": {
    "colab": {
     "base_uri": "https://localhost:8080/",
     "height": 0
    },
    "executionInfo": {
     "elapsed": 17,
     "status": "ok",
     "timestamp": 1635454214400,
     "user": {
      "displayName": "Facundo Lezama",
      "photoUrl": "https://lh3.googleusercontent.com/a-/AOh14GjvX7z6H8HKQ9Q4HSRF20NaPjvwtJ3pQh0TGed2XQ=s64",
      "userId": "08104556030349101598"
     },
     "user_tz": 180
    },
    "id": "r7o1rFDNNVXT",
    "outputId": "a81e198e-dcd2-49df-99a7-56673cf70579"
   },
   "outputs": [],
   "source": [
    "data_2_4.groupby(['location']).mean()"
   ]
  },
  {
   "cell_type": "code",
   "execution_count": null,
   "metadata": {},
   "outputs": [],
   "source": [
    "font = {'size'   : 15}\n",
    "\n",
    "plt.rc('font', **font)"
   ]
  },
  {
   "cell_type": "code",
   "execution_count": null,
   "metadata": {
    "colab": {
     "base_uri": "https://localhost:8080/",
     "height": 0
    },
    "executionInfo": {
     "elapsed": 3009,
     "status": "ok",
     "timestamp": 1635454217393,
     "user": {
      "displayName": "Facundo Lezama",
      "photoUrl": "https://lh3.googleusercontent.com/a-/AOh14GjvX7z6H8HKQ9Q4HSRF20NaPjvwtJ3pQh0TGed2XQ=s64",
      "userId": "08104556030349101598"
     },
     "user_tz": 180
    },
    "id": "QkHx2_J8BX9h",
    "outputId": "f8164665-7d13-463c-8dc1-4be6f4a6e01a"
   },
   "outputs": [],
   "source": [
    "axarr = data_2_4.hist(xlabelsize=15, ylabelsize=15, figsize=[12,15], layout=(5, 3), sharex=True, sharey=True)\n",
    "for ax in axarr.flatten():\n",
    "    ax.set_xlabel(\"RSSI\")\n",
    "    ax.set_ylabel(\"Fingerprints\")\n",
    "plt.savefig('mnav_distribution.pdf') "
   ]
  },
  {
   "cell_type": "code",
   "execution_count": null,
   "metadata": {
    "colab": {
     "base_uri": "https://localhost:8080/",
     "height": 0
    },
    "executionInfo": {
     "elapsed": 1070,
     "status": "ok",
     "timestamp": 1635454218455,
     "user": {
      "displayName": "Facundo Lezama",
      "photoUrl": "https://lh3.googleusercontent.com/a-/AOh14GjvX7z6H8HKQ9Q4HSRF20NaPjvwtJ3pQh0TGed2XQ=s64",
      "userId": "08104556030349101598"
     },
     "user_tz": 180
    },
    "id": "obdz6cYYODdK",
    "outputId": "d96d214e-c2e3-4f1b-ddbf-01975182d9e2"
   },
   "outputs": [],
   "source": [
    "data_2_4.describe()"
   ]
  },
  {
   "cell_type": "code",
   "execution_count": null,
   "metadata": {
    "executionInfo": {
     "elapsed": 10,
     "status": "ok",
     "timestamp": 1635454218455,
     "user": {
      "displayName": "Facundo Lezama",
      "photoUrl": "https://lh3.googleusercontent.com/a-/AOh14GjvX7z6H8HKQ9Q4HSRF20NaPjvwtJ3pQh0TGed2XQ=s64",
      "userId": "08104556030349101598"
     },
     "user_tz": 180
    },
    "id": "xHfjTzU5E2eq"
   },
   "outputs": [],
   "source": [
    "def graph_creator(X_G, th=10, cols=None):\n",
    "    \"\"\"\n",
    "    Dado un dataset y un threshold se arma un grafo basado en las medidas de RRSI\n",
    "    \"\"\"\n",
    "\n",
    "    columns = cols if cols else ['AP1', 'AP2', 'AP3', 'AP4', 'AP5', 'AP6', 'AP7', 'AP8', 'AP9', 'AP10', 'AP11', 'AP12', 'AP13', 'AP14', 'AP15']\n",
    "    df_data_train = pd.DataFrame(X_G, columns=columns)\n",
    "    df_G = pd.DataFrame(columns = ['from', 'to', 'weight']) \n",
    "\n",
    "    for ap in columns:\n",
    "        # para cada AP me quedo con las instancias donde el RSSI esta en el rango\n",
    "        # (max-th) intentando estimar las instancias mas cercanas al AP\n",
    "        max_val = df_data_train[ap].max()\n",
    "        df_aux_i = df_data_train[df_data_train[ap]  > (max_val - th)]\n",
    "        df_aux_i = df_aux_i.drop(ap, axis=1) \n",
    "        df_aux_i.head()\n",
    "\n",
    "        for k, v in df_aux_i.mean().items():\n",
    "            # armo las aristas con el promedio de RSSI que ven las instancias \n",
    "            # filtradas al resto de los APs\n",
    "            df_G = df_G.append({'from':ap, 'to': k, 'weight': v}, ignore_index=True)\n",
    "\n",
    "    # armo el grafo sin direcciones\n",
    "    # PARA EL CASO EN QUE HAYA VALORES DE NODO1 A NODO2 Y NODO2 A NODO1 TOMA EN CUENTA SOLO EL ÚLTIMO VALOR QUE APARECE, NO HACE PROMEDIO NI NADA\n",
    "    G = nx.from_pandas_edgelist(df_G, source='from', target='to', edge_attr='weight')  # create_using=nx.DiGraph\n",
    "\n",
    "    # para el GSO parto de la matriz de adyacencia, le saco la diagonal y la \n",
    "    # normalizo por su vector propio mas grande\n",
    "    W = nx.to_numpy_array(G)\n",
    "    np.fill_diagonal(W,0)\n",
    "    (w,v) = scipy.sparse.linalg.eigs(W, k=1,which='LM')\n",
    "    W = W/np.abs(w[0])\n",
    "\n",
    "    return G, W"
   ]
  },
  {
   "cell_type": "code",
   "execution_count": null,
   "metadata": {},
   "outputs": [],
   "source": [
    "a = [0, 1, 1, 2]\n",
    "b = [1, 0, 2, 1]\n",
    "edge_index = torch.tensor([a, b], dtype=torch.long)\n",
    "edge_index"
   ]
  },
  {
   "cell_type": "markdown",
   "metadata": {
    "id": "YHsZyzkAZKlK"
   },
   "source": [
    "## Entrenamiento"
   ]
  },
  {
   "cell_type": "code",
   "execution_count": null,
   "metadata": {
    "colab": {
     "base_uri": "https://localhost:8080/"
    },
    "executionInfo": {
     "elapsed": 8934,
     "status": "ok",
     "timestamp": 1635454227381,
     "user": {
      "displayName": "Facundo Lezama",
      "photoUrl": "https://lh3.googleusercontent.com/a-/AOh14GjvX7z6H8HKQ9Q4HSRF20NaPjvwtJ3pQh0TGed2XQ=s64",
      "userId": "08104556030349101598"
     },
     "user_tz": 180
    },
    "id": "3ILoOqaZLLgt",
    "outputId": "b5a601a2-651a-4ee1-bde3-802b1ecf3ea3"
   },
   "outputs": [],
   "source": [
    "!git clone https://github.com/alelab-upenn/graph-neural-networks\n",
    "import sys\n",
    "sys.path.append('/content/graph-neural-networks/')\n",
    "#necesita hdf5storage ...\n",
    "!pip install hdf5storage\n",
    "\n",
    "import alegnn.modules.architectures as architectures\n",
    "import alegnn.utils.graphML as graphML\n",
    "# no sé porqué le cambian los parámetros por defecto a pyplot... por lo menos le saco el latex que en colab no funciona por defecto.\n",
    "plt.rcParams.update({\"text.usetex\": False})"
   ]
  },
  {
   "cell_type": "code",
   "execution_count": null,
   "metadata": {
    "executionInfo": {
     "elapsed": 24,
     "status": "ok",
     "timestamp": 1635454227382,
     "user": {
      "displayName": "Facundo Lezama",
      "photoUrl": "https://lh3.googleusercontent.com/a-/AOh14GjvX7z6H8HKQ9Q4HSRF20NaPjvwtJ3pQh0TGed2XQ=s64",
      "userId": "08104556030349101598"
     },
     "user_tz": 180
    },
    "id": "sjpZlaspH6S9"
   },
   "outputs": [],
   "source": [
    "def train_model_simple(model, train_data, test_data, batch_size=32, n_epochs=100, epsilon=0.005, weight_decay=1e-2, use_scheduler=False):\n",
    "    \n",
    "    train_loader = torch.utils.data.DataLoader(dataset=train_data, batch_size=batch_size, shuffle=True)\n",
    "    test_loader = torch.utils.data.DataLoader(dataset=test_data, batch_size=len(test_data), shuffle=False)\n",
    "\n",
    "    optimizer = torch.optim.Adam(model.parameters(), lr=epsilon, weight_decay=weight_decay)\n",
    "    loss = torch.nn.CrossEntropyLoss()\n",
    "    scheduler = torch.optim.lr_scheduler.ExponentialLR(optimizer, gamma=0.1)\n",
    "    m = torch.nn.Softmax(dim=1)\n",
    "\n",
    "    total_loss = []\n",
    "\n",
    "    for epoch in range(n_epochs):\n",
    "        model.train()\n",
    "        for x_batch, y_batch in train_loader:\n",
    "\n",
    "            x_batch, y_batch = x_batch.to(device), y_batch.to(device)\n",
    "\n",
    "            #if y_batch.shape[0] == batch_size:\n",
    "            model.zero_grad()\n",
    "            y_hat = model(x_batch)\n",
    "            loss_result = loss(y_hat, y_batch.reshape(-1).type(torch.long))\n",
    "            loss_result.backward()\n",
    "            optimizer.step()\n",
    "            #else:\n",
    "            #    break\n",
    "            \n",
    "        #if (epoch != 0 and epoch%50 == 0):\n",
    "        if epoch == 10:\n",
    "            if use_scheduler:\n",
    "                scheduler.step()\n",
    "\n",
    "        print(\"Epoch: {}\".format(epoch+1))\n",
    "        print(\"Training Loss: {}\".format(loss_result)) \n",
    "\n",
    "        output = m(y_hat).cpu()   \n",
    "        train_accuracy = accuracy_score(y_batch.reshape(-1).type(torch.long).cpu(), np.array(torch.argmax(output, axis=1)))\n",
    "\n",
    "        print(\"Last Training Accuracy: {}\".format(train_accuracy))            \n",
    "        \n",
    "        total_loss.append(loss_result)   \n",
    "\n",
    "\n",
    "        model.eval()\n",
    "        for x_batch, y_batch in test_loader:\n",
    "            x_batch, y_batch = x_batch.to(device), y_batch.to(device)\n",
    "            y_hattest = model(x_batch)\n",
    "\n",
    "        output = m(y_hattest).cpu()   \n",
    "        test_accuracy = accuracy_score(y_batch.reshape(-1).type(torch.long).cpu(), np.array(torch.argmax(output, axis=1)))\n",
    "\n",
    "        print(\"Last Test Accuracy: {}\".format(test_accuracy)) \n",
    "        print(\"--------------------------------\")\n",
    "    \n",
    "    print(\"Last LR: {}\".format(scheduler.get_last_lr()))\n",
    "    print(\"Last Training Loss: {}\".format(loss_result)) \n",
    "    plt.plot(total_loss)\n",
    "\n",
    "    return (model, y_hattest)"
   ]
  },
  {
   "cell_type": "code",
   "execution_count": null,
   "metadata": {
    "executionInfo": {
     "elapsed": 356,
     "status": "ok",
     "timestamp": 1635462144424,
     "user": {
      "displayName": "Facundo Lezama",
      "photoUrl": "https://lh3.googleusercontent.com/a-/AOh14GjvX7z6H8HKQ9Q4HSRF20NaPjvwtJ3pQh0TGed2XQ=s64",
      "userId": "08104556030349101598"
     },
     "user_tz": 180
    },
    "id": "0MsSCtZkUDbj"
   },
   "outputs": [],
   "source": [
    "best_params = {'bs': 128, 'lr': 0.001, 'nfil': 3, 'wd': 0.0001}"
   ]
  },
  {
   "cell_type": "markdown",
   "metadata": {
    "id": "gU46OaNwNj7Z"
   },
   "source": [
    "## Validación Cruzada"
   ]
  },
  {
   "cell_type": "code",
   "execution_count": null,
   "metadata": {
    "id": "G2AnkteZDD4O"
   },
   "outputs": [],
   "source": [
    "# Create an experiment with your api key\n",
    "# experiment = Experiment(\n",
    "#     api_key=\"krnsqImdHJjs4Y1RdFTqfrtjd\",\n",
    "#     project_name=\"aagrafos\",\n",
    "#     workspace=\"facundolezama\",\n",
    "# )"
   ]
  },
  {
   "cell_type": "code",
   "execution_count": null,
   "metadata": {
    "id": "M869voWRNnkj"
   },
   "outputs": [],
   "source": [
    "k=5 # cantidad de folds\n",
    "kf = KFold(n_splits=k)\n",
    "\n",
    "lr_list = [1e-2, 1e-3, 1e-4]\n",
    "bs_list = [8, 16, 32] \n",
    "wd_list = [1e-3, 1e-4]\n",
    "n_fil = [1, 2, 3]\n",
    "\n",
    "param_grid = {'lr': lr_list, 'bs': bs_list, 'wd': wd_list, 'nfil': n_fil}\n",
    "\n",
    "best_score = 0\n",
    "best_params = None\n",
    "\n",
    "for param in list(ParameterGrid(param_grid)):\n",
    "\n",
    "  ACC = 0\n",
    "  for train_index, val_index in kf.split(X_train):\n",
    "    X_train_cv, X_val_cv = X_train[train_index], X_train[val_index]\n",
    "    y_train_cv, y_val_cv = y_train[train_index], y_train[val_index]\n",
    "\n",
    "    graph, W = graph_creator(X_train_cv[:,:15], th=10) #el grafo lo armo solo con los datos de 2.4Ghz\n",
    "    gnn_model = architectures.SelectionGNN(dimNodeSignals=[2, 20, 20], nFilterTaps=[param['nfil'],param['nfil']], bias=True, nonlinearity=torch.nn.ReLU, nSelectedNodes=[15, 15], poolingFunction=graphML.NoPool, poolingSize=[1, 1], dimLayersMLP=[16], GSO=torch.from_numpy(W).float())\n",
    "\n",
    "    scaler = StandardScaler()\n",
    "    X_train_cv = scaler.fit_transform(X_train_cv)\n",
    "    X_val_cv = scaler.transform(X_val_cv)\n",
    "\n",
    "    x_training_data = np.reshape(X_train_cv,(X_train_cv.shape[0],2,15))\n",
    "    x_val_data = np.reshape(X_val_cv,(X_val_cv.shape[0],2,15))\n",
    "    y_training_data = np.reshape(y_train_cv,(y_train_cv.shape[0],1,y_train_cv.shape[1]))\n",
    "    y_val_data = np.reshape(y_val_cv,(y_val_cv.shape[0],1,y_val_cv.shape[1]))\n",
    "\n",
    "    train_data = torch.utils.data.TensorDataset(torch.from_numpy(x_training_data).float(), torch.from_numpy(y_training_data).float())\n",
    "    val_data = torch.utils.data.TensorDataset(torch.from_numpy(x_val_data).float(), torch.from_numpy(y_val_data).float())\n",
    "\n",
    "    trained_gnn_model, y_pred = train_model_simple(gnn_model, train_data, val_data, n_epochs=1, epsilon=param['lr'], batch_size=param['bs'], weight_decay=param['wd'])\n",
    "\n",
    "    m = torch.nn.Softmax(dim=1)\n",
    "    output = m(y_pred)\n",
    "    ACC += accuracy_score(y_val_cv, np.array(torch.argmax(output, axis=1)))/k\n",
    "\n",
    "  if ACC > best_score:\n",
    "      best_score = ACC\n",
    "      best_params = param\n",
    "\n",
    "  print(\"params: \", param)\n",
    "  print(\"Accuracy: \", ACC) \n",
    "  print()\n",
    "\n",
    "print(\"----------- BEST PARAMS --------------\")\n",
    "print(\"params: \", best_params)\n",
    "print(\"Accuracy: \", best_score) \n",
    "print()\n",
    "\n",
    "#experiment.add_tag(\"corss-2_4-5\")\n",
    "#experiment.log_parameters(best_params)\n",
    "#experiment.log_metrics({\"accuracy\": best_score})"
   ]
  },
  {
   "cell_type": "markdown",
   "metadata": {
    "id": "xfmtkXdEz88K"
   },
   "source": [
    "## Test"
   ]
  },
  {
   "cell_type": "code",
   "execution_count": null,
   "metadata": {
    "colab": {
     "base_uri": "https://localhost:8080/"
    },
    "executionInfo": {
     "elapsed": 397,
     "status": "ok",
     "timestamp": 1635461759240,
     "user": {
      "displayName": "Facundo Lezama",
      "photoUrl": "https://lh3.googleusercontent.com/a-/AOh14GjvX7z6H8HKQ9Q4HSRF20NaPjvwtJ3pQh0TGed2XQ=s64",
      "userId": "08104556030349101598"
     },
     "user_tz": 180
    },
    "id": "bZZKAAYjKfGV",
    "outputId": "64caebbb-d2c9-4d99-e488-bdc22acb394e"
   },
   "outputs": [],
   "source": [
    "x_training_data = np.reshape(X_train,(X_train.shape[0],2,15))\n",
    "x_test_data = np.reshape(X_test,(X_test.shape[0],2,15))\n",
    "y_training_data = np.reshape(y_train,(y_train.shape[0],1,y_train.shape[1]))\n",
    "y_test_data = np.reshape(y_test,(y_test.shape[0],1,y_test.shape[1]))\n",
    "\n",
    "#normalize (x-mean)/std\n",
    "mean = x_training_data.mean(axis=0)\n",
    "std = x_training_data.std(axis=0)\n",
    "\n",
    "x_training_data = x_training_data - mean\n",
    "x_training_data /= std\n",
    "x_test_data = x_test_data - mean\n",
    "x_test_data /= std\n",
    "\n",
    "assert not np.isnan(np.min(x_training_data))\n",
    "assert not np.isnan(np.min(x_test_data))\n",
    "\n",
    "train_data = torch.utils.data.TensorDataset(torch.from_numpy(x_training_data).float(), torch.from_numpy(y_training_data).float())\n",
    "test_data = torch.utils.data.TensorDataset(torch.from_numpy(x_test_data).float(), torch.from_numpy(y_test_data).float())\n",
    "print(\"x_training_data shape: \", x_training_data.shape)\n",
    "print(\"y_training_data shape: \", y_training_data.shape)"
   ]
  },
  {
   "cell_type": "code",
   "execution_count": null,
   "metadata": {
    "colab": {
     "base_uri": "https://localhost:8080/"
    },
    "executionInfo": {
     "elapsed": 6,
     "status": "ok",
     "timestamp": 1635461759722,
     "user": {
      "displayName": "Facundo Lezama",
      "photoUrl": "https://lh3.googleusercontent.com/a-/AOh14GjvX7z6H8HKQ9Q4HSRF20NaPjvwtJ3pQh0TGed2XQ=s64",
      "userId": "08104556030349101598"
     },
     "user_tz": 180
    },
    "id": "o4DWbWuFwp43",
    "outputId": "e8bbcdff-1d16-479f-a8c6-fdcd5a88eaf5"
   },
   "outputs": [],
   "source": [
    "device = torch.device('cuda' if torch.cuda.is_available() else 'cpu')\n",
    "device"
   ]
  },
  {
   "cell_type": "code",
   "execution_count": null,
   "metadata": {
    "executionInfo": {
     "elapsed": 911,
     "status": "ok",
     "timestamp": 1635461910638,
     "user": {
      "displayName": "Facundo Lezama",
      "photoUrl": "https://lh3.googleusercontent.com/a-/AOh14GjvX7z6H8HKQ9Q4HSRF20NaPjvwtJ3pQh0TGed2XQ=s64",
      "userId": "08104556030349101598"
     },
     "user_tz": 180
    },
    "id": "dN7bKc85lAO4"
   },
   "outputs": [],
   "source": [
    "graph, W = graph_creator(X_train[:,:15], th=10) #el grafo lo armo solo con los datos de 2.4Ghz\n",
    "\n",
    "gnn_model = architectures.SelectionGNN(dimNodeSignals=[2, 20, 20], nFilterTaps=[best_params['nfil'],best_params['nfil']], bias=True, nonlinearity=torch.nn.ReLU, nSelectedNodes=[15, 15], poolingFunction=graphML.NoPool, poolingSize=[15, 15], dimLayersMLP=[16], GSO=torch.from_numpy(W).float())\n",
    "#gnn_model = architectures.SelectionGNN(dimNodeSignals=[2, 10, 1], nFilterTaps=[best_params['nfil'], 1], bias=True, nonlinearity=torch.nn.ReLU, nSelectedNodes=[15, 15], poolingFunction=graphML.NoPool, poolingSize=[15, 15], dimLayersMLP=[16], GSO=torch.from_numpy(W).float())\n",
    "# PROBAR LA ARQUITECTURA LOCALGNN\n",
    "#gnn_model = architectures.LocalGNN(dimNodeSignals=[2, 20, 20], nFilterTaps=[best_params['nfil'],best_params['nfil']], bias=True, nonlinearity=torch.nn.ReLU, nSelectedNodes=[15, 15], poolingFunction=graphML.NoPool, poolingSize=[15, 15], dimLayersMLP=[16], GSO=torch.from_numpy(W).float())\n"
   ]
  },
  {
   "cell_type": "code",
   "execution_count": null,
   "metadata": {
    "executionInfo": {
     "elapsed": 5,
     "status": "ok",
     "timestamp": 1635461910639,
     "user": {
      "displayName": "Facundo Lezama",
      "photoUrl": "https://lh3.googleusercontent.com/a-/AOh14GjvX7z6H8HKQ9Q4HSRF20NaPjvwtJ3pQh0TGed2XQ=s64",
      "userId": "08104556030349101598"
     },
     "user_tz": 180
    },
    "id": "kYLecRLflDef"
   },
   "outputs": [],
   "source": [
    "gnn_model.to(device)"
   ]
  },
  {
   "cell_type": "code",
   "execution_count": null,
   "metadata": {
    "colab": {
     "base_uri": "https://localhost:8080/",
     "height": 1000
    },
    "executionInfo": {
     "elapsed": 16054,
     "status": "ok",
     "timestamp": 1635462205663,
     "user": {
      "displayName": "Facundo Lezama",
      "photoUrl": "https://lh3.googleusercontent.com/a-/AOh14GjvX7z6H8HKQ9Q4HSRF20NaPjvwtJ3pQh0TGed2XQ=s64",
      "userId": "08104556030349101598"
     },
     "user_tz": 180
    },
    "id": "U47n6exWGSWa",
    "outputId": "4757992d-b000-4a6b-d999-4b1bd62385e8"
   },
   "outputs": [],
   "source": [
    "(trained_gnn_model, y_hattest) = train_model_simple(gnn_model, train_data, test_data, n_epochs=50, epsilon=best_params['lr'], batch_size=best_params['bs'], weight_decay=best_params['wd'], use_scheduler=True)\n",
    "\n",
    "m = torch.nn.Softmax(dim=1)\n",
    "output = m(y_hattest).cpu()   \n",
    "ACC_test = accuracy_score(y_test, np.array(torch.argmax(output, axis=1)))\n",
    "\n",
    "print(ACC_test)\n",
    "print(classification_report(y_test, np.array(torch.argmax(output, axis=1))))"
   ]
  },
  {
   "cell_type": "code",
   "execution_count": null,
   "metadata": {
    "executionInfo": {
     "elapsed": 245,
     "status": "ok",
     "timestamp": 1635120770361,
     "user": {
      "displayName": "Facundo Lezama",
      "photoUrl": "https://lh3.googleusercontent.com/a-/AOh14GjvX7z6H8HKQ9Q4HSRF20NaPjvwtJ3pQh0TGed2XQ=s64",
      "userId": "08104556030349101598"
     },
     "user_tz": 180
    },
    "id": "xhXdTP0Og2Ie"
   },
   "outputs": [],
   "source": [
    "torch.save(gnn_model.state_dict(), '/content/drive/MyDrive/fing/maestria/tesis/codigo/gnn_model_96_5.csv')"
   ]
  },
  {
   "cell_type": "markdown",
   "metadata": {
    "id": "UX-BT5viC_1M"
   },
   "source": [
    "SI HAY UN MODELO GUARDADO CARGARLO"
   ]
  },
  {
   "cell_type": "code",
   "execution_count": null,
   "metadata": {
    "id": "5cpPZfq7k6a9"
   },
   "outputs": [],
   "source": [
    "#para seguir entrenando\n",
    "gnn_model.load_state_dict(torch.load('/content/drive/MyDrive/fing/maestria/tesis/codigo/gnn_model_96_5.csv'))"
   ]
  },
  {
   "cell_type": "code",
   "execution_count": null,
   "metadata": {
    "colab": {
     "base_uri": "https://localhost:8080/"
    },
    "executionInfo": {
     "elapsed": 519,
     "status": "ok",
     "timestamp": 1635454244386,
     "user": {
      "displayName": "Facundo Lezama",
      "photoUrl": "https://lh3.googleusercontent.com/a-/AOh14GjvX7z6H8HKQ9Q4HSRF20NaPjvwtJ3pQh0TGed2XQ=s64",
      "userId": "08104556030349101598"
     },
     "user_tz": 180
    },
    "id": "tw5QZEYfC-vF",
    "outputId": "d0db359f-0206-4e0f-f09f-17c8ab80b02f"
   },
   "outputs": [],
   "source": [
    "#para hacer analisis\n",
    "trained_gnn_model = gnn_model\n",
    "trained_gnn_model.load_state_dict(torch.load('/content/drive/MyDrive/fing/maestria/tesis/codigo/gnn_model_96_5.csv'))"
   ]
  },
  {
   "cell_type": "code",
   "execution_count": null,
   "metadata": {
    "colab": {
     "base_uri": "https://localhost:8080/",
     "height": 445
    },
    "executionInfo": {
     "elapsed": 2094,
     "status": "ok",
     "timestamp": 1634425075987,
     "user": {
      "displayName": "Facundo Lezama",
      "photoUrl": "https://lh3.googleusercontent.com/a-/AOh14GjvX7z6H8HKQ9Q4HSRF20NaPjvwtJ3pQh0TGed2XQ=s64",
      "userId": "08104556030349101598"
     },
     "user_tz": 180
    },
    "id": "SwGxcvmIWix-",
    "outputId": "d16b67c5-b5e9-4169-ca6a-4005d3eaae5f"
   },
   "outputs": [],
   "source": [
    "plt.figure(figsize=[9,7])\n",
    "cf_matrix = confusion_matrix(y_test, np.array(torch.argmax(output, axis=1)), normalize=\"true\")\n",
    "sns.heatmap(cf_matrix, annot=True, fmt=\".0%\", cmap=\"YlGnBu\", vmin=0, vmax=0.2, cbar=False)\n"
   ]
  },
  {
   "cell_type": "markdown",
   "metadata": {
    "id": "XMvpi9yM5Kjv"
   },
   "source": [
    "# Análisis"
   ]
  },
  {
   "cell_type": "code",
   "execution_count": null,
   "metadata": {
    "colab": {
     "base_uri": "https://localhost:8080/"
    },
    "executionInfo": {
     "elapsed": 549,
     "status": "ok",
     "timestamp": 1635454244931,
     "user": {
      "displayName": "Facundo Lezama",
      "photoUrl": "https://lh3.googleusercontent.com/a-/AOh14GjvX7z6H8HKQ9Q4HSRF20NaPjvwtJ3pQh0TGed2XQ=s64",
      "userId": "08104556030349101598"
     },
     "user_tz": 180
    },
    "id": "JcqRMbRE5OqD",
    "outputId": "9d9fd470-7bc7-436b-8892-6e694d659c68"
   },
   "outputs": [],
   "source": [
    "% cd drive/MyDrive/fing/maestria/tesis/codigo/\n",
    "from functions import *"
   ]
  },
  {
   "cell_type": "markdown",
   "metadata": {
    "id": "P3QFKooiTRQF"
   },
   "source": [
    "## Análisis variando cantidad de muestras"
   ]
  },
  {
   "cell_type": "markdown",
   "metadata": {
    "id": "l3E2lBjQwoZQ"
   },
   "source": [
    "### GNN"
   ]
  },
  {
   "cell_type": "code",
   "execution_count": null,
   "metadata": {
    "colab": {
     "base_uri": "https://localhost:8080/"
    },
    "executionInfo": {
     "elapsed": 17899764,
     "status": "ok",
     "timestamp": 1627682030039,
     "user": {
      "displayName": "Facundo Lezama",
      "photoUrl": "https://lh3.googleusercontent.com/a-/AOh14Gj2xw-0BdU_PRtXkRq8_4D7gmZ07lypfpXmvlaDQQ=s64",
      "userId": "08104556030349101598"
     },
     "user_tz": 180
    },
    "id": "rM6XnsSCTXvW",
    "outputId": "9d618adc-2ef7-41b8-a197-22f20aa67280"
   },
   "outputs": [],
   "source": [
    "porcentajes = [0.3, 0.4, 0.5, 0.6, 0.7, 0.8, 0.9, 1]\n",
    "accuracy = {}\n",
    "for porc in porcentajes:\n",
    "    print('Porcentaje de datos: ', porc)\n",
    "    accuracy[str(porc)] = []\n",
    "    for i in range(10):\n",
    "        dfaux = pd.DataFrame(X)\n",
    "        dfaux['30'] = y\n",
    "        subsample = dfaux.sample(frac=porc)\n",
    "        y_sub = subsample.iloc[:, -1].values.reshape(-1,1)\n",
    "        X_sub = subsample.iloc[:, :-1].values\n",
    "\n",
    "        # separo el dataset en train y test 80-20\n",
    "        X_train, X_test, y_train, y_test = train_test_split(X_sub, y_sub, test_size=0.2, random_state=123)\n",
    "\n",
    "        x_training_data = np.reshape(X_train,(X_train.shape[0],2,15))\n",
    "        x_test_data = np.reshape(X_test,(X_test.shape[0],2,15))\n",
    "        y_training_data = np.reshape(y_train,(y_train.shape[0],1,y_train.shape[1]))\n",
    "        y_test_data = np.reshape(y_test,(y_test.shape[0],1,y_test.shape[1]))\n",
    "\n",
    "        train_data = torch.utils.data.TensorDataset(torch.from_numpy(x_training_data).float(), torch.from_numpy(y_training_data).float())\n",
    "        test_data = torch.utils.data.TensorDataset(torch.from_numpy(x_test_data).float(), torch.from_numpy(y_test_data).float())\n",
    "\n",
    "        graph_aux, W_aux = graph_creator(X_train[:,:15], th=10) #el grafo lo armo solo con los datos de 2.4Ghz\n",
    "        gnn_model_aux = architectures.SelectionGNN(dimNodeSignals=[2, 20, 20], nFilterTaps=[best_params['nfil'],best_params['nfil']], bias=True, nonlinearity=torch.nn.ReLU, nSelectedNodes=[15, 15], poolingFunction=graphML.NoPool, poolingSize=[15, 15], dimLayersMLP=[16], GSO=torch.from_numpy(W_aux).float())\n",
    "        (trained_gnn_model_aux, y_hattest_aux) = train_model_simple(gnn_model_aux, train_data, test_data, n_epochs=300, epsilon=best_params['lr'], batch_size=best_params['bs'], weight_decay=best_params['wd'])\n",
    "\n",
    "        m = torch.nn.Softmax(dim=1)\n",
    "        output = m(y_hattest_aux)   \n",
    "        ACC_test = accuracy_score(y_test, np.array(torch.argmax(output, axis=1)))\n",
    "\n",
    "        accuracy[str(porc)].append(ACC_test)\n",
    "        print(ACC_test)\n",
    "        #print(classification_report(y_test, np.array(torch.argmax(output, axis=1))))"
   ]
  },
  {
   "cell_type": "code",
   "execution_count": null,
   "metadata": {
    "colab": {
     "base_uri": "https://localhost:8080/",
     "height": 444
    },
    "executionInfo": {
     "elapsed": 1741,
     "status": "ok",
     "timestamp": 1627682489601,
     "user": {
      "displayName": "Facundo Lezama",
      "photoUrl": "https://lh3.googleusercontent.com/a-/AOh14Gj2xw-0BdU_PRtXkRq8_4D7gmZ07lypfpXmvlaDQQ=s64",
      "userId": "08104556030349101598"
     },
     "user_tz": 180
    },
    "id": "01edibEoteBp",
    "outputId": "de2e5599-4eb8-4bc7-8540-0bdd79bf61e8"
   },
   "outputs": [],
   "source": [
    "from sklearn.metrics import confusion_matrix\n",
    "import seaborn as sns\n",
    "\n",
    "plt.figure(figsize=[9,7])\n",
    "cf_matrix = confusion_matrix(y_test, np.array(torch.argmax(output, axis=1)), normalize=\"true\")\n",
    "sns.heatmap(cf_matrix, annot=True, fmt=\".0%\", cmap=\"YlGnBu\", vmin=0, vmax=0.2, cbar=False)"
   ]
  },
  {
   "cell_type": "code",
   "execution_count": null,
   "metadata": {
    "id": "H92g5X9uAdGN"
   },
   "outputs": [],
   "source": [
    "per = [30, 40, 50, 60, 70, 80, 90, 100]\n",
    "acc_mean = []\n",
    "for i, porc in enumerate(porcentajes):\n",
    "    acc_mean.append(np.mean(accuracy[str(porc)]))"
   ]
  },
  {
   "cell_type": "code",
   "execution_count": null,
   "metadata": {
    "colab": {
     "base_uri": "https://localhost:8080/",
     "height": 277
    },
    "executionInfo": {
     "elapsed": 640,
     "status": "ok",
     "timestamp": 1627682500206,
     "user": {
      "displayName": "Facundo Lezama",
      "photoUrl": "https://lh3.googleusercontent.com/a-/AOh14Gj2xw-0BdU_PRtXkRq8_4D7gmZ07lypfpXmvlaDQQ=s64",
      "userId": "08104556030349101598"
     },
     "user_tz": 180
    },
    "id": "1NB_BMd_BF-l",
    "outputId": "43e30ec4-fc3e-491e-d51d-88ebb49d2027"
   },
   "outputs": [],
   "source": [
    "plt.plot(per, acc_mean, '.-')\n",
    "plt.ylabel('Average accuracy')\n",
    "plt.xlabel('Fingerprints sample size (%)')\n",
    "plt.grid()"
   ]
  },
  {
   "cell_type": "code",
   "execution_count": null,
   "metadata": {
    "id": "V7eOLu26f26Q"
   },
   "outputs": [],
   "source": [
    "# Agrego otros 5 datos obtenidos en otra tirada independiente para tener más \n",
    "# información para hacer el gráfico\n",
    "\n",
    "accuracy2 = { '0.3':\n",
    "[0.931637519872814,\n",
    "0.9205087440381559,\n",
    "0.8918918918918919,\n",
    "0.9427662957074722,\n",
    "0.9459459459459459,\n",
    "0.9364069952305246,\n",
    "0.9411764705882353,\n",
    "0.9491255961844197,\n",
    "0.9332273449920508,\n",
    "0.9332273449920508],\n",
    "'0.4':\n",
    "[0.9403341288782816,\n",
    "0.9152744630071599,\n",
    "0.9331742243436754,\n",
    "0.9391408114558473,\n",
    "0.9427207637231504,\n",
    "0.951073985680191,\n",
    "0.9415274463007159,\n",
    "0.9260143198090692,\n",
    "0.9331742243436754,\n",
    "0.9451073985680191],\n",
    "'0.5':\n",
    "[0.9522445081184336, \n",
    "0.9503342884431709,\n",
    "0.956064947468959,\n",
    "0.9503342884431709,\n",
    "0.9340974212034384,\n",
    "0.944603629417383,\n",
    "0.9531996179560649,\n",
    "0.9369627507163324,\n",
    "0.9407831900668577,\n",
    "0.9426934097421203],\n",
    "'0.6':\n",
    "[0.9451073985680191,\n",
    "0.9562450278440732,\n",
    "0.9474940334128878,\n",
    "0.9498806682577565,\n",
    "0.9514717581543357,\n",
    "0.9578361177406524,\n",
    "0.9578361177406524,\n",
    "0.9538583929992045,\n",
    "0.9562450278440732,\n",
    "0.9554494828957836],\n",
    "'0.7':\n",
    "[0.9542974079126876,\n",
    "0.9583901773533424,\n",
    "0.9624829467939973,\n",
    "0.9604365620736699,\n",
    "0.9618008185538881,\n",
    "0.9365620736698499,\n",
    "0.9604365620736699,\n",
    "0.9645293315143247,\n",
    "0.9604365620736699,\n",
    "0.9508867667121419],\n",
    "'0.8':\n",
    "[0.9546268656716418,\n",
    "0.9570149253731344,\n",
    "0.9534328358208956,\n",
    "0.9522388059701492,\n",
    "0.9570149253731344,\n",
    "0.9582089552238806,\n",
    "0.9540298507462687,\n",
    "0.96,\n",
    "0.9522388059701492,\n",
    "0.9588059701492537],\n",
    "'0.9':\n",
    "[0.9697612732095491,\n",
    "0.96657824933687,\n",
    "0.9655172413793104,\n",
    "0.9522546419098143,\n",
    "0.9591511936339523,\n",
    "0.9708222811671088,\n",
    "0.956498673740053,\n",
    "0.9681697612732095,\n",
    "0.9639257294429708,\n",
    "0.9692307692307692],\n",
    "'1':\n",
    "[0.9570200573065902,\n",
    "0.9598853868194842,\n",
    "0.9608404966571156,\n",
    "0.9565425023877746,\n",
    "0.9570200573065902,\n",
    "0.9512893982808023,\n",
    "0.9646609360076409,\n",
    "0.9637058261700095,\n",
    "0.9608404966571156,\n",
    "0.9713467048710601]}"
   ]
  },
  {
   "cell_type": "code",
   "execution_count": null,
   "metadata": {
    "colab": {
     "base_uri": "https://localhost:8080/"
    },
    "executionInfo": {
     "elapsed": 314,
     "status": "ok",
     "timestamp": 1627685653402,
     "user": {
      "displayName": "Facundo Lezama",
      "photoUrl": "https://lh3.googleusercontent.com/a-/AOh14Gj2xw-0BdU_PRtXkRq8_4D7gmZ07lypfpXmvlaDQQ=s64",
      "userId": "08104556030349101598"
     },
     "user_tz": 180
    },
    "id": "2gH2gxztgEnB",
    "outputId": "d7eebc89-b889-4990-d30a-0970b0b2594c"
   },
   "outputs": [],
   "source": [
    "aux = []\n",
    "aux.append(accuracy2['0.3'])\n",
    "aux.append(accuracy2['0.4'])\n",
    "aux.append(accuracy2['0.5'])\n",
    "aux.append(accuracy2['0.6'])\n",
    "aux.append(accuracy2['0.7'])\n",
    "aux.append(accuracy2['0.8'])\n",
    "aux.append(accuracy2['0.9'])\n",
    "aux.append(accuracy2['1'])\n",
    "print(aux)"
   ]
  },
  {
   "cell_type": "code",
   "execution_count": null,
   "metadata": {
    "colab": {
     "base_uri": "https://localhost:8080/",
     "height": 451
    },
    "executionInfo": {
     "elapsed": 613,
     "status": "ok",
     "timestamp": 1627686511454,
     "user": {
      "displayName": "Facundo Lezama",
      "photoUrl": "https://lh3.googleusercontent.com/a-/AOh14Gj2xw-0BdU_PRtXkRq8_4D7gmZ07lypfpXmvlaDQQ=s64",
      "userId": "08104556030349101598"
     },
     "user_tz": 180
    },
    "id": "wAKPH51IgRZv",
    "outputId": "e5bfb9aa-55e2-4bbb-bf3e-fd34463aa3fd"
   },
   "outputs": [],
   "source": [
    "plt.figure(figsize=[9,7])\n",
    "plt.boxplot(aux, showfliers=False) #, meanline=True, showmeans=True)\n",
    "plt.xticks([1, 2, 3, 4, 5, 6, 7, 8], per)\n",
    "plt.ylabel('Accuracy')\n",
    "plt.xlabel('Fingerprints sample size (%)')\n",
    "plt.grid()\n",
    "plt.savefig('ave_acc_museo.pdf')"
   ]
  },
  {
   "cell_type": "markdown",
   "metadata": {
    "id": "iLqqssUmRSZU"
   },
   "source": [
    "- Las lineas de más arriba y más abajo representan el valor máximo y el mínimo respectivamente\n",
    "- Los extremos de la caja representan el percentil 25% y 75%\n",
    "- La linea naranja representa el percentil 50% (mediana)"
   ]
  },
  {
   "cell_type": "markdown",
   "metadata": {
    "id": "DdJpdEQmWRuO"
   },
   "source": [
    "### KNN"
   ]
  },
  {
   "cell_type": "code",
   "execution_count": null,
   "metadata": {
    "colab": {
     "base_uri": "https://localhost:8080/"
    },
    "executionInfo": {
     "elapsed": 2352,
     "status": "ok",
     "timestamp": 1635294310751,
     "user": {
      "displayName": "Facundo Lezama",
      "photoUrl": "https://lh3.googleusercontent.com/a-/AOh14GjvX7z6H8HKQ9Q4HSRF20NaPjvwtJ3pQh0TGed2XQ=s64",
      "userId": "08104556030349101598"
     },
     "user_tz": 180
    },
    "id": "YiQojQD4RG52",
    "outputId": "2675349a-5365-47e3-c7a7-de265b7e3dda"
   },
   "outputs": [],
   "source": [
    "porcentajes = [0.3, 0.4, 0.5, 0.6, 0.7, 0.8, 0.9, 1]\n",
    "accuracy = {}\n",
    "for porc in porcentajes:\n",
    "    print('Porcentaje de datos: ', porc)\n",
    "    accuracy[str(porc)] = []\n",
    "    for i in range(1):\n",
    "        dfaux = pd.DataFrame(X)\n",
    "        dfaux['30'] = y\n",
    "        subsample = dfaux.sample(frac=porc, random_state=123)\n",
    "        y_sub = subsample.iloc[:, -1].values.reshape(-1,1)\n",
    "        X_sub = subsample.iloc[:, :-1].values\n",
    "\n",
    "        # separo el dataset en train y test 80-20\n",
    "        X_train, X_test, y_train, y_test = train_test_split(X_sub, y_sub, test_size=0.2, random_state=123)\n",
    "\n",
    "        neigh = KNeighborsClassifier(n_neighbors=3)\n",
    "        neigh.fit(X_train, y_train.reshape(-1))\n",
    "\n",
    "        y_pred_knn = neigh.predict(X_test)\n",
    "\n",
    "        ACC_test = accuracy_score(y_test, y_pred_knn)        \n",
    "        accuracy[str(porc)].append(ACC_test)\n",
    "        print(ACC_test)"
   ]
  },
  {
   "cell_type": "code",
   "execution_count": null,
   "metadata": {
    "executionInfo": {
     "elapsed": 5,
     "status": "ok",
     "timestamp": 1635510361214,
     "user": {
      "displayName": "Facundo Lezama",
      "photoUrl": "https://lh3.googleusercontent.com/a-/AOh14GjvX7z6H8HKQ9Q4HSRF20NaPjvwtJ3pQh0TGed2XQ=s64",
      "userId": "08104556030349101598"
     },
     "user_tz": 180
    },
    "id": "JOGIw5PWzdt9"
   },
   "outputs": [],
   "source": [
    "per = [30, 40, 50, 60, 70, 80, 90, 100]\n",
    "aux = [[0.931637519872814], [0.9558472553699284], [0.9522445081184336], [0.9562450278440732], [0.9631650750341064], [0.964776119402985], [0.9517241379310345], [0.9613180515759312]]"
   ]
  },
  {
   "cell_type": "code",
   "execution_count": null,
   "metadata": {
    "colab": {
     "base_uri": "https://localhost:8080/",
     "height": 442
    },
    "executionInfo": {
     "elapsed": 342,
     "status": "ok",
     "timestamp": 1635510361551,
     "user": {
      "displayName": "Facundo Lezama",
      "photoUrl": "https://lh3.googleusercontent.com/a-/AOh14GjvX7z6H8HKQ9Q4HSRF20NaPjvwtJ3pQh0TGed2XQ=s64",
      "userId": "08104556030349101598"
     },
     "user_tz": 180
    },
    "id": "r19epYcyzb25",
    "outputId": "100700fc-6259-4ca8-f451-a3a977e05f65"
   },
   "outputs": [],
   "source": [
    "plt.figure(figsize=[9,7])\n",
    "plt.boxplot(aux, showfliers=False) #, meanline=True, showmeans=True)\n",
    "plt.xticks([1, 2, 3, 4, 5, 6, 7, 8], per)\n",
    "plt.ylabel('Accuracy')\n",
    "plt.xlabel('Fingerprints sample size (%)')\n",
    "plt.grid()\n",
    "plt.savefig('knn_cant_muestras_museo.jpg')"
   ]
  },
  {
   "cell_type": "markdown",
   "metadata": {
    "id": "9Y6Zs61LXiik"
   },
   "source": [
    "### FCNN"
   ]
  },
  {
   "cell_type": "code",
   "execution_count": null,
   "metadata": {
    "colab": {
     "base_uri": "https://localhost:8080/"
    },
    "executionInfo": {
     "elapsed": 764645,
     "status": "ok",
     "timestamp": 1635295080184,
     "user": {
      "displayName": "Facundo Lezama",
      "photoUrl": "https://lh3.googleusercontent.com/a-/AOh14GjvX7z6H8HKQ9Q4HSRF20NaPjvwtJ3pQh0TGed2XQ=s64",
      "userId": "08104556030349101598"
     },
     "user_tz": 180
    },
    "id": "ylscLvZ4XmG4",
    "outputId": "f76b4aaa-8e96-4ba1-8e82-54257e20195a"
   },
   "outputs": [],
   "source": [
    "porcentajes = [0.3, 0.4, 0.5, 0.6, 0.7, 0.8, 0.9, 1]\n",
    "accuracy = {}\n",
    "for porc in porcentajes:\n",
    "    print('Porcentaje de datos: ', porc)\n",
    "    accuracy[str(porc)] = []\n",
    "    for i in range(10):\n",
    "        dfaux = pd.DataFrame(X)\n",
    "        dfaux['30'] = y\n",
    "        subsample = dfaux.sample(frac=porc, random_state=123)\n",
    "        y_sub = subsample.iloc[:, -1].values.reshape(-1,1)\n",
    "        X_sub = subsample.iloc[:, :-1].values\n",
    "\n",
    "        # separo el dataset en train y test 80-20\n",
    "        X_train, X_test, y_train, y_test = train_test_split(X_sub, y_sub, test_size=0.2, random_state=123)\n",
    "\n",
    "        clf = MLPClassifier().fit(X_train, y_train.reshape(-1))\n",
    "\n",
    "        y_pred_fcnn = clf.predict(X_test)\n",
    "\n",
    "        ACC_test = accuracy_score(y_test, y_pred_fcnn)        \n",
    "        accuracy[str(porc)].append(ACC_test)\n",
    "    print(accuracy[str(porc)])"
   ]
  },
  {
   "cell_type": "code",
   "execution_count": null,
   "metadata": {
    "executionInfo": {
     "elapsed": 5,
     "status": "ok",
     "timestamp": 1635510362364,
     "user": {
      "displayName": "Facundo Lezama",
      "photoUrl": "https://lh3.googleusercontent.com/a-/AOh14GjvX7z6H8HKQ9Q4HSRF20NaPjvwtJ3pQh0TGed2XQ=s64",
      "userId": "08104556030349101598"
     },
     "user_tz": 180
    },
    "id": "pJwjGHQ6z3ak"
   },
   "outputs": [],
   "source": [
    "per = [30, 40, 50, 60, 70, 80, 90, 100]\n",
    "aux = [\n",
    "       [0.9364069952305246, 0.9284578696343402, 0.9332273449920508, 0.9236883942766295, 0.9236883942766295, 0.931637519872814, 0.8918918918918919, 0.9284578696343402, 0.9268680445151033, 0.9236883942766295],\n",
    "       [0.9498806682577565, 0.9486873508353222, 0.9295942720763724, 0.9451073985680191, 0.9630071599045346, 0.9248210023866349, 0.9498806682577565, 0.9498806682577565, 0.964200477326969, 0.9498806682577565],\n",
    "       [0.9531996179560649, 0.9531996179560649, 0.9551098376313276, 0.9465138490926457, 0.9493791786055397, 0.9522445081184336, 0.9503342884431709, 0.9503342884431709, 0.9598853868194842, 0.9493791786055397],\n",
    "       [0.94351630867144, 0.9522673031026253, 0.9427207637231504, 0.9530628480509149, 0.9482895783611774, 0.9459029435163087, 0.9522673031026253, 0.9530628480509149, 0.9387430389817024, 0.9284009546539379],\n",
    "       [0.9488403819918144, 0.9590723055934516, 0.9577080491132333, 0.9536152796725784, 0.9583901773533424, 0.9502046384720327, 0.956343792633015, 0.9488403819918144, 0.9597544338335607, 0.9461118690313779],\n",
    "       [0.9596816976127321, 0.9628647214854111, 0.9586206896551724, 0.9718832891246685, 0.963395225464191, 0.9681697612732095, 0.9702917771883289, 0.9644562334217507, 0.9750663129973475, 0.9692307692307692],\n",
    "       [0.955820895522388, 0.964776119402985, 0.9665671641791045, 0.9683582089552238, 0.9641791044776119, 0.9611940298507463, 0.964776119402985, 0.9671641791044776, 0.9617910447761194, 0.9617910447761194],\n",
    "       [0.9646609360076409, 0.9570200573065902, 0.9675262655205349, 0.9522445081184336, 0.9617956064947469, 0.9660936007640879, 0.9684813753581661, 0.9651384909264565, 0.9641833810888252, 0.9684813753581661]\n",
    "]"
   ]
  },
  {
   "cell_type": "code",
   "execution_count": null,
   "metadata": {
    "colab": {
     "base_uri": "https://localhost:8080/",
     "height": 442
    },
    "executionInfo": {
     "elapsed": 379,
     "status": "ok",
     "timestamp": 1635510362739,
     "user": {
      "displayName": "Facundo Lezama",
      "photoUrl": "https://lh3.googleusercontent.com/a-/AOh14GjvX7z6H8HKQ9Q4HSRF20NaPjvwtJ3pQh0TGed2XQ=s64",
      "userId": "08104556030349101598"
     },
     "user_tz": 180
    },
    "id": "UilB-YZEz3Qh",
    "outputId": "f9d3c159-3cd9-4ccb-a425-a95e30571cd4"
   },
   "outputs": [],
   "source": [
    "plt.figure(figsize=[9,7])\n",
    "plt.boxplot(aux, showfliers=False) #, meanline=True, showmeans=True)\n",
    "plt.xticks([1, 2, 3, 4, 5, 6, 7, 8], per)\n",
    "plt.ylabel('Accuracy')\n",
    "plt.xlabel('Fingerprints sample size (%)')\n",
    "plt.grid()\n",
    "plt.savefig('fcnn_cant_muestras_museo.jpg')"
   ]
  },
  {
   "cell_type": "markdown",
   "metadata": {
    "id": "MTSumaDohl3K"
   },
   "source": [
    "### Bracco, etc"
   ]
  },
  {
   "cell_type": "code",
   "execution_count": null,
   "metadata": {
    "colab": {
     "base_uri": "https://localhost:8080/"
    },
    "executionInfo": {
     "elapsed": 1010893,
     "status": "ok",
     "timestamp": 1635455524161,
     "user": {
      "displayName": "Facundo Lezama",
      "photoUrl": "https://lh3.googleusercontent.com/a-/AOh14GjvX7z6H8HKQ9Q4HSRF20NaPjvwtJ3pQh0TGed2XQ=s64",
      "userId": "08104556030349101598"
     },
     "user_tz": 180
    },
    "id": "rCeReL7Qhpt8",
    "outputId": "94f3118d-1a31-4160-e4bb-6c191015db90"
   },
   "outputs": [],
   "source": [
    "names= [\"Nearest Neighbors\",\"Decision Tree\",\"Linear SVM\",\"Random Forest\",\"Neural Net\",\"AdaBoost\"]\n",
    "\n",
    "porcentajes = [0.3, 0.4, 0.5, 0.6, 0.7, 0.8, 0.9, 1]\n",
    "accuracy = {}\n",
    "for porc in porcentajes:\n",
    "    print('Porcentaje de datos: ', porc)\n",
    "    accuracy[str(porc)] = []\n",
    "    for i in range(10):\n",
    "        dfaux = pd.DataFrame(X)\n",
    "        dfaux['30'] = y\n",
    "        subsample = dfaux.sample(frac=porc, random_state=123)\n",
    "        y_sub = subsample.iloc[:, -1].values.reshape(-1,1)\n",
    "        X_sub = subsample.iloc[:, :-1].values\n",
    "\n",
    "        # separo el dataset en train y test 80-20\n",
    "        X_train, X_test, y_train, y_test = train_test_split(X_sub, y_sub, test_size=0.2, random_state=123)\n",
    "\n",
    "        classifiers = [KNeighborsClassifier(3),DecisionTreeClassifier(max_depth=5),SVC(kernel=\"linear\", C=0.025, probability=True), DecisionTreeClassifier(max_depth=5),RandomForestClassifier(max_depth=5, n_estimators=10, max_features=1),MLPClassifier(alpha=1, max_iter=1000),\n",
    "            AdaBoostClassifier()]\n",
    "\n",
    "        algorithms, youden = train_algorithms(X_train, y_train.ravel(), X_test, y_test.ravel(), names, classifiers)\n",
    "\n",
    "        y_final = classify(algorithms, youden, X_test)\n",
    "\n",
    "        ACC_test = accuracy_score(y_test, y_final)        \n",
    "        accuracy[str(porc)].append(ACC_test)\n",
    "    print(accuracy[str(porc)])\n"
   ]
  },
  {
   "cell_type": "code",
   "execution_count": null,
   "metadata": {
    "executionInfo": {
     "elapsed": 7,
     "status": "ok",
     "timestamp": 1635510362739,
     "user": {
      "displayName": "Facundo Lezama",
      "photoUrl": "https://lh3.googleusercontent.com/a-/AOh14GjvX7z6H8HKQ9Q4HSRF20NaPjvwtJ3pQh0TGed2XQ=s64",
      "userId": "08104556030349101598"
     },
     "user_tz": 180
    },
    "id": "5BmfpRof3JON"
   },
   "outputs": [],
   "source": [
    "per = [30, 40, 50, 60, 70, 80, 90, 100]\n",
    "aux = [\n",
    "       [0.9475357710651828, 0.9427662957074722, 0.9538950715421304, 0.9491255961844197, 0.9507154213036566, 0.9427662957074722, 0.9507154213036566, 0.9475357710651828, 0.9475357710651828, 0.9459459459459459],\n",
    "       [0.9689737470167065, 0.964200477326969, 0.9701670644391408, 0.9665871121718377, 0.9689737470167065, 0.9653937947494033, 0.9713603818615751, 0.9737470167064439, 0.9725536992840096, 0.9713603818615751],\n",
    "       [0.9637058261700095, 0.9675262655205349, 0.9656160458452722, 0.9665711556829035, 0.9627507163323782, 0.9665711556829035, 0.9675262655205349, 0.9627507163323782, 0.9617956064947469, 0.9694364851957975],\n",
    "       [0.964200477326969, 0.9657915672235481, 0.9681782020684169, 0.9626093874303898, 0.964200477326969, 0.9634049323786794, 0.9649960222752586, 0.9673826571201273, 0.9673826571201273, 0.9649960222752586],\n",
    "       [0.9597544338335607, 0.9583901773533424, 0.9597544338335607, 0.9583901773533424, 0.9577080491132333, 0.9583901773533424, 0.9604365620736699, 0.9597544338335607, 0.9583901773533424, 0.9597544338335607],\n",
    "       [0.9749253731343284, 0.9749253731343284, 0.9725373134328358, 0.9737313432835821, 0.9749253731343284, 0.9725373134328358, 0.9737313432835821, 0.9731343283582089, 0.9743283582089552, 0.9749253731343284],\n",
    "       [0.9729442970822281, 0.9729442970822281, 0.9718832891246685, 0.9740053050397878, 0.9729442970822281, 0.9740053050397878, 0.9740053050397878, 0.9724137931034482, 0.9718832891246685, 0.9729442970822281],\n",
    "       [0.9680038204393505, 0.9670487106017192, 0.9675262655205349, 0.9651384909264565, 0.9675262655205349, 0.9680038204393505, 0.9646609360076409, 0.9656160458452722, 0.9675262655205349, 0.9646609360076409]\n",
    "]"
   ]
  },
  {
   "cell_type": "code",
   "execution_count": null,
   "metadata": {
    "colab": {
     "base_uri": "https://localhost:8080/",
     "height": 442
    },
    "executionInfo": {
     "elapsed": 312,
     "status": "ok",
     "timestamp": 1635510363045,
     "user": {
      "displayName": "Facundo Lezama",
      "photoUrl": "https://lh3.googleusercontent.com/a-/AOh14GjvX7z6H8HKQ9Q4HSRF20NaPjvwtJ3pQh0TGed2XQ=s64",
      "userId": "08104556030349101598"
     },
     "user_tz": 180
    },
    "id": "imw7AGUF3df-",
    "outputId": "e324fc39-5064-4227-ea4d-f8110b263bba"
   },
   "outputs": [],
   "source": [
    "plt.figure(figsize=[9,7])\n",
    "plt.boxplot(aux, showfliers=False) #, meanline=True, showmeans=True)\n",
    "plt.xticks([1, 2, 3, 4, 5, 6, 7, 8], per)\n",
    "plt.ylabel('Accuracy')\n",
    "plt.xlabel('Fingerprints sample size (%)')\n",
    "plt.grid()\n",
    "plt.savefig('bracco_cant_muestra_museo.jpg')"
   ]
  },
  {
   "cell_type": "markdown",
   "metadata": {
    "id": "d2MElifG5G5q"
   },
   "source": [
    "## Análisis variando cantidad de APs"
   ]
  },
  {
   "cell_type": "markdown",
   "metadata": {
    "id": "ifuuJDLK5Wmc"
   },
   "source": [
    "Los APs fueron descartados en el siguiente orden:\n",
    "\n",
    "- AP13 : Se encuentra en la sala de conferencias. Alejado de las zonas de\n",
    "localización.\n",
    "- AP10 : Se encuentra en el depósito de obras, alejado de las zonas de localización.\n",
    "- AP14 : Se encuentra en la sala de dirección, no directamente dentro de zonas\n",
    "de localización.\n",
    "- AP3 : Se encuentra en una zona alejada con varios APs.\n",
    "- AP8 : Se encuentra entre el AP7 el AP9, podría entenderse que es redundante\n",
    "a ellos dos."
   ]
  },
  {
   "cell_type": "markdown",
   "metadata": {
    "id": "RQAdL_5wwtLU"
   },
   "source": [
    "### GNN"
   ]
  },
  {
   "cell_type": "code",
   "execution_count": null,
   "metadata": {
    "colab": {
     "base_uri": "https://localhost:8080/"
    },
    "executionInfo": {
     "elapsed": 15475349,
     "status": "ok",
     "timestamp": 1629336529673,
     "user": {
      "displayName": "Facundo Lezama",
      "photoUrl": "https://lh3.googleusercontent.com/a-/AOh14Gj2xw-0BdU_PRtXkRq8_4D7gmZ07lypfpXmvlaDQQ=s64",
      "userId": "08104556030349101598"
     },
     "user_tz": 180
    },
    "id": "kmTjsM8f5Ko_",
    "outputId": "6ef310e5-e72e-4c4e-92ce-488d3e3f1c76"
   },
   "outputs": [],
   "source": [
    "APs_to_remove = [13, 10, 14, 3, 8] \n",
    "accuracy = {}\n",
    "X_aux = pd.DataFrame(X)\n",
    "number_of_APs = 15\n",
    "cols = ['AP1', 'AP2', 'AP3', 'AP4', 'AP5', 'AP6', 'AP7', 'AP8', 'AP9', 'AP10', 'AP11', 'AP12', 'AP13', 'AP14', 'AP15']\n",
    "\n",
    "\n",
    "for ap in APs_to_remove:\n",
    "    print('Nuevo AP removido: ', ap)\n",
    "    accuracy[str(ap)] = []\n",
    "    # saco el AP en 2.4GHz y 5GHz\n",
    "    X_aux = X_aux.drop(columns=[ap-1, ap-1+15], axis=1)\n",
    "    X_aux2 = X_aux.values\n",
    "    number_of_APs = number_of_APs -1\n",
    "    cols.remove('AP'+str(ap))\n",
    "\n",
    "    for i in range(5):\n",
    "        # separo el dataset en train y test 80-20\n",
    "        X_train, X_test, y_train, y_test = train_test_split(X_aux2, y, test_size=0.2, random_state=123)\n",
    "\n",
    "        x_training_data = np.reshape(X_train,(X_train.shape[0],2,number_of_APs))\n",
    "        x_test_data = np.reshape(X_test,(X_test.shape[0],2,number_of_APs))\n",
    "        y_training_data = np.reshape(y_train,(y_train.shape[0],1,y_train.shape[1]))\n",
    "        y_test_data = np.reshape(y_test,(y_test.shape[0],1,y_test.shape[1]))\n",
    "\n",
    "        train_data = torch.utils.data.TensorDataset(torch.from_numpy(x_training_data).float(), torch.from_numpy(y_training_data).float())\n",
    "        test_data = torch.utils.data.TensorDataset(torch.from_numpy(x_test_data).float(), torch.from_numpy(y_test_data).float())\n",
    "\n",
    "        graph_aux, W_aux = graph_creator(X_train[:,:number_of_APs], th=10, cols=cols) #el grafo lo armo solo con los datos de 2.4Ghz\n",
    "        gnn_model_aux = architectures.SelectionGNN(dimNodeSignals=[2, 20, 20], nFilterTaps=[best_params['nfil'],best_params['nfil']], bias=True, nonlinearity=torch.nn.ReLU, nSelectedNodes=[number_of_APs, number_of_APs], poolingFunction=graphML.NoPool, poolingSize=[number_of_APs, number_of_APs], dimLayersMLP=[16], GSO=torch.from_numpy(W_aux).float())\n",
    "        (trained_gnn_model_aux, y_hattest_aux) = train_model_simple(gnn_model_aux, train_data, test_data, n_epochs=300, epsilon=best_params['lr'], batch_size=best_params['bs'], weight_decay=best_params['wd'])\n",
    "\n",
    "        m = torch.nn.Softmax(dim=1)\n",
    "        output = m(y_hattest_aux)   \n",
    "        ACC_test = accuracy_score(y_test, np.array(torch.argmax(output, axis=1)))\n",
    "\n",
    "        accuracy[str(ap)].append(ACC_test)\n",
    "        print(ACC_test)\n",
    "        #print(classification_report(y_test, np.array(torch.argmax(output, axis=1))))"
   ]
  },
  {
   "cell_type": "code",
   "execution_count": null,
   "metadata": {
    "colab": {
     "base_uri": "https://localhost:8080/"
    },
    "executionInfo": {
     "elapsed": 255,
     "status": "ok",
     "timestamp": 1629336705860,
     "user": {
      "displayName": "Facundo Lezama",
      "photoUrl": "https://lh3.googleusercontent.com/a-/AOh14Gj2xw-0BdU_PRtXkRq8_4D7gmZ07lypfpXmvlaDQQ=s64",
      "userId": "08104556030349101598"
     },
     "user_tz": 180
    },
    "id": "HPiBKWD4CJTD",
    "outputId": "a5d5884b-14f4-4efc-89ff-56f7d6632bd8"
   },
   "outputs": [],
   "source": [
    "accuracy2 = {'10': [0.9536771728748806,\n",
    "  0.956064947468959,\n",
    "  0.954632282712512,\n",
    "  0.9622731614135626,\n",
    "  0.9555873925501432],\n",
    " '13': [0.9608404966571156,\n",
    "  0.9608404966571156,\n",
    "  0.9713467048710601,\n",
    "  0.9551098376313276,\n",
    "  0.9684813753581661],\n",
    " '14': [0.9317096466093601,\n",
    "  0.9512893982808023,\n",
    "  0.9474689589302769,\n",
    "  0.9498567335243553,\n",
    "  0.9598853868194842],\n",
    " '3': [0.944603629417383,\n",
    "  0.9517669531996179,\n",
    "  0.9379178605539638,\n",
    "  0.9512893982808023,\n",
    "  0.9422158548233047],\n",
    " '8': [0.9426934097421203,\n",
    "  0.937440305635148,\n",
    "  0.9407831900668577,\n",
    "  0.9398280802292264,\n",
    "  0.9398280802292264]}"
   ]
  },
  {
   "cell_type": "code",
   "execution_count": null,
   "metadata": {
    "id": "r2SXDQetHzMY"
   },
   "outputs": [],
   "source": [
    "acc_mean = []\n",
    "for i, ap in enumerate(APs_to_remove):\n",
    "    acc_mean.append(np.mean(accuracy[str(ap)]))"
   ]
  },
  {
   "cell_type": "code",
   "execution_count": null,
   "metadata": {
    "colab": {
     "base_uri": "https://localhost:8080/",
     "height": 277
    },
    "executionInfo": {
     "elapsed": 292,
     "status": "ok",
     "timestamp": 1629336878975,
     "user": {
      "displayName": "Facundo Lezama",
      "photoUrl": "https://lh3.googleusercontent.com/a-/AOh14Gj2xw-0BdU_PRtXkRq8_4D7gmZ07lypfpXmvlaDQQ=s64",
      "userId": "08104556030349101598"
     },
     "user_tz": 180
    },
    "id": "MW1JL8lNHzMZ",
    "outputId": "319f8c0a-263d-4863-ddf0-685b82f26aae"
   },
   "outputs": [],
   "source": [
    "num_ap = [14, 13, 12, 11, 10]\n",
    "plt.plot(num_ap, acc_mean, '.-')\n",
    "plt.ylabel('Average accuracy')\n",
    "plt.xlabel('AP removed')\n",
    "plt.grid()"
   ]
  },
  {
   "cell_type": "code",
   "execution_count": null,
   "metadata": {
    "colab": {
     "base_uri": "https://localhost:8080/"
    },
    "executionInfo": {
     "elapsed": 250,
     "status": "ok",
     "timestamp": 1629336897388,
     "user": {
      "displayName": "Facundo Lezama",
      "photoUrl": "https://lh3.googleusercontent.com/a-/AOh14Gj2xw-0BdU_PRtXkRq8_4D7gmZ07lypfpXmvlaDQQ=s64",
      "userId": "08104556030349101598"
     },
     "user_tz": 180
    },
    "id": "JcYRkoWsIznj",
    "outputId": "3b641ac8-4026-45c4-cb98-81eda0306529"
   },
   "outputs": [],
   "source": [
    "aux = []\n",
    "aux.append(accuracy['13'])\n",
    "aux.append(accuracy['10'])\n",
    "aux.append(accuracy['14'])\n",
    "aux.append(accuracy['3'])\n",
    "aux.append(accuracy['8'])\n",
    "print(aux)"
   ]
  },
  {
   "cell_type": "code",
   "execution_count": null,
   "metadata": {
    "colab": {
     "base_uri": "https://localhost:8080/",
     "height": 440
    },
    "executionInfo": {
     "elapsed": 810,
     "status": "ok",
     "timestamp": 1629336939340,
     "user": {
      "displayName": "Facundo Lezama",
      "photoUrl": "https://lh3.googleusercontent.com/a-/AOh14Gj2xw-0BdU_PRtXkRq8_4D7gmZ07lypfpXmvlaDQQ=s64",
      "userId": "08104556030349101598"
     },
     "user_tz": 180
    },
    "id": "m_n4dCbjHzMZ",
    "outputId": "f956070f-30d5-4b68-af8e-8b9c7f57e2e6"
   },
   "outputs": [],
   "source": [
    "plt.figure(figsize=[9,7])\n",
    "plt.boxplot(aux, showfliers=False) #, meanline=True, showmeans=True)\n",
    "plt.xticks([1, 2, 3, 4, 5], num_ap)\n",
    "plt.ylabel('Accuracy')\n",
    "plt.xlabel('AP removed')\n",
    "plt.grid()\n",
    "plt.savefig('ave_acc_museo_removing_ap.pdf')"
   ]
  },
  {
   "cell_type": "markdown",
   "metadata": {
    "id": "2284iPmdHzMZ"
   },
   "source": [
    "- Las lineas de más arriba y más abajo representan el valor máximo y el mínimo respectivamente\n",
    "- Los extremos de la caja representan el percentil 25% y 75%\n",
    "- La linea naranja representa el percentil 50% (mediana)"
   ]
  },
  {
   "cell_type": "markdown",
   "metadata": {
    "id": "2EjKrCuHim66"
   },
   "source": [
    "### KNN"
   ]
  },
  {
   "cell_type": "code",
   "execution_count": null,
   "metadata": {
    "colab": {
     "base_uri": "https://localhost:8080/"
    },
    "executionInfo": {
     "elapsed": 2744,
     "status": "ok",
     "timestamp": 1635455620383,
     "user": {
      "displayName": "Facundo Lezama",
      "photoUrl": "https://lh3.googleusercontent.com/a-/AOh14GjvX7z6H8HKQ9Q4HSRF20NaPjvwtJ3pQh0TGed2XQ=s64",
      "userId": "08104556030349101598"
     },
     "user_tz": 180
    },
    "id": "DROUayTmim7C",
    "outputId": "3ef11c99-3969-493a-d184-8e5d2e5da05e"
   },
   "outputs": [],
   "source": [
    "APs_to_remove = [13, 10, 14, 3, 8] \n",
    "accuracy = {}\n",
    "X_aux = pd.DataFrame(X)\n",
    "number_of_APs = 15\n",
    "cols = ['AP1', 'AP2', 'AP3', 'AP4', 'AP5', 'AP6', 'AP7', 'AP8', 'AP9', 'AP10', 'AP11', 'AP12', 'AP13', 'AP14', 'AP15']\n",
    "\n",
    "\n",
    "for ap in APs_to_remove:\n",
    "    print('Nuevo AP removido: ', ap)\n",
    "    accuracy[str(ap)] = []\n",
    "    # saco el AP en 2.4GHz y 5GHz\n",
    "    X_aux = X_aux.drop(columns=[ap-1, ap-1+15], axis=1)\n",
    "    X_aux2 = X_aux.values\n",
    "    number_of_APs = number_of_APs -1\n",
    "    cols.remove('AP'+str(ap))\n",
    "\n",
    "    for i in range(1):\n",
    "        # separo el dataset en train y test 80-20\n",
    "        X_train, X_test, y_train, y_test = train_test_split(X_aux2, y, test_size=0.2, random_state=123)\n",
    "\n",
    "        neigh = KNeighborsClassifier(n_neighbors=3)\n",
    "        neigh.fit(X_train, y_train.reshape(-1))\n",
    "\n",
    "        y_pred_knn = neigh.predict(X_test)\n",
    "\n",
    "        ACC_test = accuracy_score(y_test, y_pred_knn)        \n",
    "        accuracy[str(ap)].append(ACC_test)\n",
    "        print(ACC_test)"
   ]
  },
  {
   "cell_type": "markdown",
   "metadata": {
    "id": "iSVeCEtNim7C"
   },
   "source": [
    "### FCNN"
   ]
  },
  {
   "cell_type": "code",
   "execution_count": null,
   "metadata": {
    "colab": {
     "base_uri": "https://localhost:8080/"
    },
    "executionInfo": {
     "elapsed": 728282,
     "status": "ok",
     "timestamp": 1635456388783,
     "user": {
      "displayName": "Facundo Lezama",
      "photoUrl": "https://lh3.googleusercontent.com/a-/AOh14GjvX7z6H8HKQ9Q4HSRF20NaPjvwtJ3pQh0TGed2XQ=s64",
      "userId": "08104556030349101598"
     },
     "user_tz": 180
    },
    "id": "wQGGAPxFim7C",
    "outputId": "75d5bab1-5315-465e-89d9-c5d2564281a2"
   },
   "outputs": [],
   "source": [
    "APs_to_remove = [13, 10, 14, 3, 8] \n",
    "accuracy = {}\n",
    "X_aux = pd.DataFrame(X)\n",
    "number_of_APs = 15\n",
    "cols = ['AP1', 'AP2', 'AP3', 'AP4', 'AP5', 'AP6', 'AP7', 'AP8', 'AP9', 'AP10', 'AP11', 'AP12', 'AP13', 'AP14', 'AP15']\n",
    "\n",
    "\n",
    "for ap in APs_to_remove:\n",
    "    print('Nuevo AP removido: ', ap)\n",
    "    accuracy[str(ap)] = []\n",
    "    # saco el AP en 2.4GHz y 5GHz\n",
    "    X_aux = X_aux.drop(columns=[ap-1, ap-1+15], axis=1)\n",
    "    X_aux2 = X_aux.values\n",
    "    number_of_APs = number_of_APs -1\n",
    "    cols.remove('AP'+str(ap))\n",
    "\n",
    "    for i in range(10):\n",
    "        # separo el dataset en train y test 80-20\n",
    "        X_train, X_test, y_train, y_test = train_test_split(X_aux2, y, test_size=0.2, random_state=123)\n",
    "\n",
    "        clf = MLPClassifier().fit(X_train, y_train.reshape(-1))\n",
    "\n",
    "        y_pred_fcnn = clf.predict(X_test)\n",
    "\n",
    "        ACC_test = accuracy_score(y_test, y_pred_fcnn)        \n",
    "        accuracy[str(ap)].append(ACC_test)\n",
    "    print(accuracy[str(ap)])\n"
   ]
  },
  {
   "cell_type": "markdown",
   "metadata": {
    "id": "1uwrgRzJim7D"
   },
   "source": [
    "### Bracco, etc"
   ]
  },
  {
   "cell_type": "code",
   "execution_count": null,
   "metadata": {
    "colab": {
     "base_uri": "https://localhost:8080/"
    },
    "executionInfo": {
     "elapsed": 912386,
     "status": "ok",
     "timestamp": 1635457302588,
     "user": {
      "displayName": "Facundo Lezama",
      "photoUrl": "https://lh3.googleusercontent.com/a-/AOh14GjvX7z6H8HKQ9Q4HSRF20NaPjvwtJ3pQh0TGed2XQ=s64",
      "userId": "08104556030349101598"
     },
     "user_tz": 180
    },
    "id": "Hbm_JWb3im7D",
    "outputId": "6b3f52b9-7c50-4966-d309-a3b20c1881b9"
   },
   "outputs": [],
   "source": [
    "APs_to_remove = [13, 10, 14, 3, 8] \n",
    "accuracy = {}\n",
    "X_aux = pd.DataFrame(X)\n",
    "number_of_APs = 15\n",
    "cols = ['AP1', 'AP2', 'AP3', 'AP4', 'AP5', 'AP6', 'AP7', 'AP8', 'AP9', 'AP10', 'AP11', 'AP12', 'AP13', 'AP14', 'AP15']\n",
    "\n",
    "names= [\"Nearest Neighbors\",\"Decision Tree\",\"Linear SVM\",\"Random Forest\",\"Neural Net\",\"AdaBoost\"]\n",
    "\n",
    "for ap in APs_to_remove:\n",
    "    print('Nuevo AP removido: ', ap)\n",
    "    accuracy[str(ap)] = []\n",
    "    # saco el AP en 2.4GHz y 5GHz\n",
    "    X_aux = X_aux.drop(columns=[ap-1, ap-1+15], axis=1)\n",
    "    X_aux2 = X_aux.values\n",
    "    number_of_APs = number_of_APs -1\n",
    "    cols.remove('AP'+str(ap))\n",
    "\n",
    "    for i in range(10):\n",
    "        # separo el dataset en train y test 80-20\n",
    "        X_train, X_test, y_train, y_test = train_test_split(X_aux2, y, test_size=0.2, random_state=123)\n",
    "\n",
    "        classifiers = [KNeighborsClassifier(3),DecisionTreeClassifier(max_depth=5),SVC(kernel=\"linear\", C=0.025, probability=True), DecisionTreeClassifier(max_depth=5),RandomForestClassifier(max_depth=5, n_estimators=10, max_features=1),MLPClassifier(alpha=1, max_iter=1000),\n",
    "            AdaBoostClassifier()]\n",
    "        algorithms, youden = train_algorithms(X_train, y_train.ravel(), X_test, y_test.ravel(), names, classifiers)\n",
    "\n",
    "        y_final = classify(algorithms, youden, X_test)\n",
    "\n",
    "        ACC_test = accuracy_score(y_test, y_pred_fcnn)        \n",
    "        accuracy[str(ap)].append(ACC_test)\n",
    "    print(accuracy[str(ap)])\n"
   ]
  },
  {
   "cell_type": "markdown",
   "metadata": {
    "id": "qgIbP0qN45Bs"
   },
   "source": [
    "### Graficas"
   ]
  },
  {
   "cell_type": "code",
   "execution_count": null,
   "metadata": {
    "executionInfo": {
     "elapsed": 268,
     "status": "ok",
     "timestamp": 1635510379322,
     "user": {
      "displayName": "Facundo Lezama",
      "photoUrl": "https://lh3.googleusercontent.com/a-/AOh14GjvX7z6H8HKQ9Q4HSRF20NaPjvwtJ3pQh0TGed2XQ=s64",
      "userId": "08104556030349101598"
     },
     "user_tz": 180
    },
    "id": "-tQ6DtkO47Dd"
   },
   "outputs": [],
   "source": [
    "acc_gnn = [[0.9608404966571156, 0.9608404966571156, 0.9713467048710601, 0.9551098376313276, 0.9684813753581661], [0.9536771728748806, 0.956064947468959, 0.954632282712512, 0.9622731614135626, 0.9555873925501432], [0.9317096466093601, 0.9512893982808023, 0.9474689589302769, 0.9498567335243553, 0.9598853868194842], [0.944603629417383, 0.9517669531996179, 0.9379178605539638, 0.9512893982808023, 0.9422158548233047], [0.9426934097421203, 0.937440305635148, 0.9407831900668577, 0.9398280802292264, 0.9398280802292264]]\n",
    "acc_knn = [0.9613180515759312, 0.9570200573065902, 0.956064947468959, 0.9531996179560649, 0.940305635148042]\n",
    "acc_fcnn = [[0.9484240687679083, 0.9436485195797517, 0.9608404966571156, 0.957497612225406, 0.956064947468959, 0.9594078319006686, 0.9613180515759312, 0.9517669531996179, 0.9608404966571156, 0.9536771728748806], [0.957497612225406, 0.9531996179560649, 0.9465138490926457, 0.954632282712512, 0.9531996179560649, 0.9570200573065902, 0.9493791786055397, 0.9512893982808023, 0.9531996179560649, 0.9465138490926457], [0.9498567335243553, 0.9422158548233047, 0.9474689589302769, 0.9479465138490927, 0.9450811843361987, 0.956064947468959, 0.9493791786055397, 0.9426934097421203, 0.9412607449856734, 0.9541547277936963], [0.9455587392550143, 0.9426934097421203, 0.9484240687679083, 0.9336198662846227, 0.9474689589302769, 0.9536771728748806, 0.9484240687679083, 0.94603629417383, 0.9498567335243553, 0.9503342884431709], [0.934574976122254, 0.938872970391595, 0.9393505253104107, 0.9307545367717287, 0.9379178605539638, 0.9317096466093601, 0.9398280802292264, 0.9336198662846227, 0.9426934097421203, 0.936007640878701]]\n",
    "acc_bracco = [[0.936007640878701, 0.936007640878701, 0.936007640878701, 0.936007640878701, 0.936007640878701, 0.936007640878701, 0.936007640878701, 0.936007640878701, 0.936007640878701, 0.936007640878701], [0.936007640878701, 0.936007640878701, 0.936007640878701, 0.936007640878701, 0.936007640878701, 0.936007640878701, 0.936007640878701, 0.936007640878701, 0.936007640878701, 0.936007640878701], [0.936007640878701, 0.936007640878701, 0.936007640878701, 0.936007640878701, 0.936007640878701, 0.936007640878701, 0.936007640878701, 0.936007640878701, 0.936007640878701, 0.936007640878701], [0.936007640878701, 0.936007640878701, 0.936007640878701, 0.936007640878701, 0.936007640878701, 0.936007640878701, 0.936007640878701, 0.936007640878701, 0.936007640878701, 0.936007640878701], [0.936007640878701, 0.936007640878701, 0.936007640878701, 0.936007640878701, 0.936007640878701, 0.936007640878701, 0.936007640878701, 0.936007640878701, 0.936007640878701, 0.936007640878701]]"
   ]
  },
  {
   "cell_type": "code",
   "execution_count": null,
   "metadata": {
    "colab": {
     "base_uri": "https://localhost:8080/"
    },
    "executionInfo": {
     "elapsed": 572,
     "status": "ok",
     "timestamp": 1635509126682,
     "user": {
      "displayName": "Facundo Lezama",
      "photoUrl": "https://lh3.googleusercontent.com/a-/AOh14GjvX7z6H8HKQ9Q4HSRF20NaPjvwtJ3pQh0TGed2XQ=s64",
      "userId": "08104556030349101598"
     },
     "user_tz": 180
    },
    "id": "pBUFqmrK7ffc",
    "outputId": "839c7683-b66d-4275-825c-9f63d092486e"
   },
   "outputs": [],
   "source": [
    "np.mean(acc_fcnn, axis=1)"
   ]
  },
  {
   "cell_type": "code",
   "execution_count": null,
   "metadata": {
    "colab": {
     "base_uri": "https://localhost:8080/",
     "height": 282
    },
    "executionInfo": {
     "elapsed": 485,
     "status": "ok",
     "timestamp": 1635510381002,
     "user": {
      "displayName": "Facundo Lezama",
      "photoUrl": "https://lh3.googleusercontent.com/a-/AOh14GjvX7z6H8HKQ9Q4HSRF20NaPjvwtJ3pQh0TGed2XQ=s64",
      "userId": "08104556030349101598"
     },
     "user_tz": 180
    },
    "id": "BDGny7I35x7j",
    "outputId": "b22ba81e-8f90-49c1-c9ea-bd28a700c0e4"
   },
   "outputs": [],
   "source": [
    "plt.figure()\n",
    "plt.plot([14,13,12,11,10], np.mean(acc_gnn, axis=1), label = \"gnn\")\n",
    "plt.plot([14,13,12,11,10], acc_knn, label = \"knn\")\n",
    "plt.plot([14,13,12,11,10], np.mean(acc_fcnn, axis=1), label = \"fcnn\")\n",
    "plt.plot([14,13,12,11,10], np.mean(acc_bracco, axis=1), label = \"bracco\")\n",
    "plt.legend()\n",
    "plt.show()\n",
    "plt.savefig('cant_aps_media_todos.jpg')"
   ]
  },
  {
   "cell_type": "markdown",
   "metadata": {
    "id": "kpCBGsGe6J3Z"
   },
   "source": [
    "## Análisis de APs caídos"
   ]
  },
  {
   "cell_type": "markdown",
   "metadata": {
    "id": "AXDhcplM6QF5"
   },
   "source": [
    "Se entrena normalmente con 15 APs y luego se busca simular la caída de APs llevando al valor mínimo de RSSI los datos de test correspondientes al AP caído.\n",
    "\n",
    "Se hacen todas las combinaciones posibles y se promedia. El análisis se hace de 1 hasta 3 APs caídos."
   ]
  },
  {
   "cell_type": "markdown",
   "metadata": {
    "id": "aNX5nDXCw5aY"
   },
   "source": [
    "### GNN"
   ]
  },
  {
   "cell_type": "code",
   "execution_count": null,
   "metadata": {
    "colab": {
     "base_uri": "https://localhost:8080/"
    },
    "executionInfo": {
     "elapsed": 14745,
     "status": "ok",
     "timestamp": 1633041259472,
     "user": {
      "displayName": "Facundo Lezama",
      "photoUrl": "https://lh3.googleusercontent.com/a-/AOh14Gj2xw-0BdU_PRtXkRq8_4D7gmZ07lypfpXmvlaDQQ=s64",
      "userId": "08104556030349101598"
     },
     "user_tz": 180
    },
    "id": "2WVFvYk76NwU",
    "outputId": "4923d181-aa8b-4c0a-8d45-5016051b5ea1"
   },
   "outputs": [],
   "source": [
    "lst = [0,1,2,3,4,5,6,7,8,9,10,11,12,13,14]\n",
    "X_train, X_test, y_train, y_test = train_test_split(X, y, test_size=0.2, random_state=42)\n",
    "\n",
    "for ap in [1,2,3]:\n",
    "    print(\"Cantidad de APs caídos: \", ap)\n",
    "    accuracy_ap_caido_gnn = []\n",
    "\n",
    "    for combo in combinations(lst, ap):  # 2 for pairs, 3 for triplets, etc\n",
    "        X_aux_test = deepcopy(X_test)\n",
    "        for i in combo:\n",
    "            X_aux_test[:,i] = 0\n",
    "            X_aux_test[:,i+15] = 0\n",
    "\n",
    "        x_test_data = np.reshape(X_aux_test,(X_aux_test.shape[0],2,15))\n",
    "        y_test_data = np.reshape(y_test,(y_test.shape[0],1,y_test.shape[1]))\n",
    "\n",
    "        x_test_data = x_test_data - mean\n",
    "        x_test_data /= std\n",
    "\n",
    "        test_data = torch.utils.data.TensorDataset(torch.from_numpy(x_test_data).float(), torch.from_numpy(y_test_data).float())\n",
    "        test_loader = torch.utils.data.DataLoader(dataset=test_data, batch_size=len(test_data), shuffle=False)\n",
    "\n",
    "        for x_batch, y_batch in test_loader:\n",
    "            x_batch, y_batch = x_batch.to(device), y_batch.to(device)\n",
    "            y_hattest = trained_gnn_model(x_batch)\n",
    "\n",
    "        m = torch.nn.Softmax(dim=1)\n",
    "        output = m(y_hattest).cpu()    \n",
    "        ACC_test = accuracy_score(y_test, np.array(torch.argmax(output, axis=1)))\n",
    "        print(ACC_test)\n",
    "        accuracy_ap_caido_gnn.append(ACC_test)\n",
    "    print(\"    Accuracy: \", np.mean(accuracy_ap_caido_gnn))"
   ]
  },
  {
   "cell_type": "markdown",
   "metadata": {
    "id": "Ii8nZX1QV9gd"
   },
   "source": [
    "### KNN"
   ]
  },
  {
   "cell_type": "code",
   "execution_count": null,
   "metadata": {
    "colab": {
     "base_uri": "https://localhost:8080/"
    },
    "executionInfo": {
     "elapsed": 374208,
     "status": "ok",
     "timestamp": 1635458195828,
     "user": {
      "displayName": "Facundo Lezama",
      "photoUrl": "https://lh3.googleusercontent.com/a-/AOh14GjvX7z6H8HKQ9Q4HSRF20NaPjvwtJ3pQh0TGed2XQ=s64",
      "userId": "08104556030349101598"
     },
     "user_tz": 180
    },
    "id": "G4lEo6LiV_y3",
    "outputId": "c37b63d9-8a58-4fbe-9a61-3ec77a51b095"
   },
   "outputs": [],
   "source": [
    "lst = [0,1,2,3,4,5,6,7,8,9,10,11,12,13,14]\n",
    "X_train, X_test, y_train, y_test = train_test_split(X, y, test_size=0.2, random_state=42)\n",
    "\n",
    "neigh = KNeighborsClassifier(n_neighbors=3)\n",
    "neigh.fit(X_train, y_train)\n",
    "\n",
    "accuracy_ap_caido_knn = []\n",
    "\n",
    "for ap in [1,2,3]:\n",
    "    print(\"Cantidad de APs caídos: \", ap)\n",
    "    accuracy_ap_caido_knn.append([])\n",
    "    for combo in combinations(lst, ap):  # 2 for pairs, 3 for triplets, etc\n",
    "        X_aux_test = deepcopy(X_test)\n",
    "        for i in combo:\n",
    "            X_aux_test[:,i] = 0\n",
    "            X_aux_test[:,i+15] = 0\n",
    "\n",
    "        y_pred_knn = neigh.predict(X_aux_test)\n",
    "\n",
    "        ACC_test = accuracy_score(y_test, y_pred_knn)\n",
    "        accuracy_ap_caido_knn[ap-1].append(ACC_test)\n",
    "    print(\"    Accuracy: \", np.mean(accuracy_ap_caido_knn[ap-1]))\n",
    "\n"
   ]
  },
  {
   "cell_type": "markdown",
   "metadata": {
    "id": "_dYPnNdrYRVr"
   },
   "source": [
    "### FCNN"
   ]
  },
  {
   "cell_type": "code",
   "execution_count": null,
   "metadata": {
    "colab": {
     "base_uri": "https://localhost:8080/"
    },
    "executionInfo": {
     "elapsed": 12151,
     "status": "ok",
     "timestamp": 1635458209398,
     "user": {
      "displayName": "Facundo Lezama",
      "photoUrl": "https://lh3.googleusercontent.com/a-/AOh14GjvX7z6H8HKQ9Q4HSRF20NaPjvwtJ3pQh0TGed2XQ=s64",
      "userId": "08104556030349101598"
     },
     "user_tz": 180
    },
    "id": "zeffLhXTYVJ1",
    "outputId": "75336e7f-e9df-4ff9-8b7e-c7c956cea75c"
   },
   "outputs": [],
   "source": [
    "lst = [0,1,2,3,4,5,6,7,8,9,10,11,12,13,14]\n",
    "X_train, X_test, y_train, y_test = train_test_split(X, y, test_size=0.2, random_state=42)\n",
    "\n",
    "clf = MLPClassifier().fit(X_train, y_train)\n",
    "accuracy_ap_caido_fcnn = []\n",
    "\n",
    "for ap in [1,2,3]:\n",
    "    print(\"Cantidad de APs caídos: \", ap)\n",
    "    accuracy_ap_caido_fcnn.append([])\n",
    "\n",
    "    for combo in combinations(lst, ap):  # 2 for pairs, 3 for triplets, etc\n",
    "        X_aux_test = deepcopy(X_test)\n",
    "        for i in combo:\n",
    "            X_aux_test[:,i] = 0\n",
    "            X_aux_test[:,i+15] = 0\n",
    "\n",
    "        y_pred_fcnn = clf.predict(X_aux_test)\n",
    "\n",
    "        ACC_test = accuracy_score(y_test, y_pred_fcnn)\n",
    "        accuracy_ap_caido_fcnn[ap-1].append(ACC_test)\n",
    "    print(\"    Accuracy: \", np.mean(accuracy_ap_caido_fcnn[ap-1]))"
   ]
  },
  {
   "cell_type": "markdown",
   "metadata": {
    "id": "Tb5Kdlky-4DN"
   },
   "source": [
    "### Bracco, etc"
   ]
  },
  {
   "cell_type": "code",
   "execution_count": null,
   "metadata": {
    "colab": {
     "base_uri": "https://localhost:8080/"
    },
    "executionInfo": {
     "elapsed": 473141,
     "status": "ok",
     "timestamp": 1635458682533,
     "user": {
      "displayName": "Facundo Lezama",
      "photoUrl": "https://lh3.googleusercontent.com/a-/AOh14GjvX7z6H8HKQ9Q4HSRF20NaPjvwtJ3pQh0TGed2XQ=s64",
      "userId": "08104556030349101598"
     },
     "user_tz": 180
    },
    "id": "b1BLZTvE-733",
    "outputId": "a54c4382-4362-4ccd-dd65-c96a07a3632c"
   },
   "outputs": [],
   "source": [
    "lst = [0,1,2,3,4,5,6,7,8,9,10,11,12,13,14]\n",
    "X_train, X_test, y_train, y_test = train_test_split(X, y, test_size=0.2, random_state=42)\n",
    "\n",
    "names= [\"Nearest Neighbors\",\"Decision Tree\",\"Linear SVM\",\"Random Forest\",\"Neural Net\",\"AdaBoost\"]\n",
    "\n",
    "classifiers = [KNeighborsClassifier(3),DecisionTreeClassifier(max_depth=5),SVC(kernel=\"linear\", C=0.025, probability=True), DecisionTreeClassifier(max_depth=5),RandomForestClassifier(max_depth=5, n_estimators=10, max_features=1),MLPClassifier(alpha=1, max_iter=1000),\n",
    "            AdaBoostClassifier()]\n",
    "algorithms, youden = train_algorithms(X_train, y_train.ravel(), X_test, y_test.ravel(), names, classifiers)\n",
    "accuracy_ap_caido_bracco = []\n",
    "\n",
    "for ap in [1,2,3]:\n",
    "    print(\"Cantidad de APs caídos: \", ap)\n",
    "    accuracy_ap_caido_bracco.append([])\n",
    "\n",
    "    for combo in combinations(lst, ap):  # 2 for pairs, 3 for triplets, etc\n",
    "        X_aux_test = deepcopy(X_test)\n",
    "        for i in combo:\n",
    "            X_aux_test[:,i] = 0\n",
    "            X_aux_test[:,i+15] = 0\n",
    "\n",
    "        y_final = classify(algorithms, youden, X_aux_test)\n",
    "\n",
    "        ACC_test = accuracy_score(y_test, y_final)\n",
    "        print(ACC_test)\n",
    "        accuracy_ap_caido_bracco[ap-1].append(ACC_test)\n",
    "    print(\"    Accuracy: \", np.mean(accuracy_ap_caido_bracco[ap-1]))\n"
   ]
  },
  {
   "cell_type": "markdown",
   "metadata": {
    "id": "2cJTvncIOZ6I"
   },
   "source": [
    "## Análisis de dispositivos con mayor/menor RSSI"
   ]
  },
  {
   "cell_type": "markdown",
   "metadata": {
    "id": "sHJWkO3Ul3Mk"
   },
   "source": [
    "Se hace lo siguiente:\n",
    "\n",
    "- se entrena el modelo normalmente\n",
    "- se suma/resta un valor a los datos de test simulando el mejor/peor HW\n",
    "- se evalua el desempeño\n",
    "    - GNN a priori no tendría una ventaja"
   ]
  },
  {
   "cell_type": "markdown",
   "metadata": {
    "id": "t4HgARi-xAuz"
   },
   "source": [
    "### GNN"
   ]
  },
  {
   "cell_type": "code",
   "execution_count": null,
   "metadata": {
    "colab": {
     "base_uri": "https://localhost:8080/"
    },
    "executionInfo": {
     "elapsed": 530,
     "status": "ok",
     "timestamp": 1635460426117,
     "user": {
      "displayName": "Facundo Lezama",
      "photoUrl": "https://lh3.googleusercontent.com/a-/AOh14GjvX7z6H8HKQ9Q4HSRF20NaPjvwtJ3pQh0TGed2XQ=s64",
      "userId": "08104556030349101598"
     },
     "user_tz": 180
    },
    "id": "jYAW4joPOmoG",
    "outputId": "67001f48-a677-4b38-ea68-71a5a2cd1301"
   },
   "outputs": [],
   "source": [
    "rssi_diff = [-5, -4, -3, -2, -1, 0, 1, 2, 3, 4, 5] # variaciones de RSSI a causa de mejor/peor HW\n",
    "X_train, X_test, y_train, y_test = train_test_split(X, y, test_size=0.2, random_state=42)\n",
    "\n",
    "for rssi in rssi_diff:\n",
    "    print(\"Variación de RSSI: \", rssi, \" dB\")\n",
    "    accuracy_rssi_diff = []\n",
    "\n",
    "    X_aux_test = deepcopy(X_test)\n",
    "    X_aux_test = X_aux_test + rssi\n",
    "\n",
    "    x_test_data = np.reshape(X_aux_test,(X_aux_test.shape[0],2,15))\n",
    "    y_test_data = np.reshape(y_test,(y_test.shape[0],1,y_test.shape[1]))\n",
    "\n",
    "    x_test_data = x_test_data - mean\n",
    "    x_test_data /= std    \n",
    "\n",
    "    test_data = torch.utils.data.TensorDataset(torch.from_numpy(x_test_data).float(), torch.from_numpy(y_test_data).float())\n",
    "    test_loader = torch.utils.data.DataLoader(dataset=test_data, batch_size=len(test_data), shuffle=False)\n",
    "\n",
    "    for x_batch, y_batch in test_loader:\n",
    "        x_batch, y_batch = x_batch.to(device), y_batch.to(device)\n",
    "        y_hattest = trained_gnn_model(x_batch)\n",
    "\n",
    "    m = torch.nn.Softmax(dim=1)\n",
    "    output = m(y_hattest).cpu()   \n",
    "    ACC_test = accuracy_score(y_test, np.array(torch.argmax(output, axis=1)))\n",
    "    print(\"     Accuracy \", ACC_test)\n",
    "    accuracy_rssi_diff.append(ACC_test)"
   ]
  },
  {
   "cell_type": "markdown",
   "metadata": {
    "id": "mP1BKDzOmhMX"
   },
   "source": [
    "### KNN"
   ]
  },
  {
   "cell_type": "code",
   "execution_count": null,
   "metadata": {
    "colab": {
     "base_uri": "https://localhost:8080/"
    },
    "executionInfo": {
     "elapsed": 5743,
     "status": "ok",
     "timestamp": 1635460200469,
     "user": {
      "displayName": "Facundo Lezama",
      "photoUrl": "https://lh3.googleusercontent.com/a-/AOh14GjvX7z6H8HKQ9Q4HSRF20NaPjvwtJ3pQh0TGed2XQ=s64",
      "userId": "08104556030349101598"
     },
     "user_tz": 180
    },
    "id": "XrUI7qdGmgrU",
    "outputId": "f3d8dd88-04ae-45e1-89a2-44b90492d24a"
   },
   "outputs": [],
   "source": [
    "rssi_diff = [-5, -4, -3, -2, -1, 0, 1, 2, 3, 4, 5] # variaciones de RSSI a causa de mejor/peor HW\n",
    "X_train, X_test, y_train, y_test = train_test_split(X, y, test_size=0.2, random_state=42)\n",
    "\n",
    "neigh = KNeighborsClassifier(n_neighbors=3)\n",
    "neigh.fit(X_train, y_train.reshape(-1))\n",
    "accuracy_rssi_diff_knn = []\n",
    "\n",
    "for rssi in rssi_diff:\n",
    "    print(\"Variación de RSSI: \", rssi, \" dB\")\n",
    "\n",
    "    X_aux_test = deepcopy(X_test)\n",
    "    X_aux_test = X_aux_test + rssi \n",
    "\n",
    "    y_pred_knn = neigh.predict(X_aux_test)\n",
    "\n",
    "    ACC_test = accuracy_score(y_test, y_pred_knn)         \n",
    "    accuracy_rssi_diff_knn.append(ACC_test)\n",
    "    print(ACC_test)\n",
    "print(accuracy_rssi_diff_knn)"
   ]
  },
  {
   "cell_type": "markdown",
   "metadata": {
    "id": "wHfXUk6anmpH"
   },
   "source": [
    "### FCNN"
   ]
  },
  {
   "cell_type": "code",
   "execution_count": null,
   "metadata": {
    "colab": {
     "base_uri": "https://localhost:8080/"
    },
    "executionInfo": {
     "elapsed": 15307,
     "status": "ok",
     "timestamp": 1635460282213,
     "user": {
      "displayName": "Facundo Lezama",
      "photoUrl": "https://lh3.googleusercontent.com/a-/AOh14GjvX7z6H8HKQ9Q4HSRF20NaPjvwtJ3pQh0TGed2XQ=s64",
      "userId": "08104556030349101598"
     },
     "user_tz": 180
    },
    "id": "54sP6lb-EfSs",
    "outputId": "f6487af2-5a3c-4232-f1fc-97860fed4248"
   },
   "outputs": [],
   "source": [
    "rssi_diff = [-5, -4, -3, -2, -1, 0, 1, 2, 3, 4, 5] # variaciones de RSSI a causa de mejor/peor HW\n",
    "X_train, X_test, y_train, y_test = train_test_split(X, y, test_size=0.2, random_state=42)\n",
    "\n",
    "clf = MLPClassifier().fit(X_train, y_train)\n",
    "accuracy_rssi_diff_fcnn = []\n",
    "\n",
    "for rssi in rssi_diff:\n",
    "    print(\"Variación de RSSI: \", rssi, \" dB\")\n",
    "\n",
    "    X_aux_test = deepcopy(X_test)\n",
    "    X_aux_test = X_aux_test + rssi\n",
    "    \n",
    "    y_pred_fcnn = clf.predict(X_aux_test)\n",
    "\n",
    "    ACC_test = accuracy_score(y_test, y_pred_fcnn)         \n",
    "    accuracy_rssi_diff_fcnn.append(ACC_test)\n",
    "    print(ACC_test)\n",
    "print(accuracy_rssi_diff_fcnn)"
   ]
  },
  {
   "cell_type": "markdown",
   "metadata": {
    "id": "sK8I71DAnopk"
   },
   "source": [
    "### Bracco, etc"
   ]
  },
  {
   "cell_type": "code",
   "execution_count": null,
   "metadata": {
    "colab": {
     "base_uri": "https://localhost:8080/"
    },
    "executionInfo": {
     "elapsed": 27099,
     "status": "ok",
     "timestamp": 1635460326337,
     "user": {
      "displayName": "Facundo Lezama",
      "photoUrl": "https://lh3.googleusercontent.com/a-/AOh14GjvX7z6H8HKQ9Q4HSRF20NaPjvwtJ3pQh0TGed2XQ=s64",
      "userId": "08104556030349101598"
     },
     "user_tz": 180
    },
    "id": "RW85VTYTEtWW",
    "outputId": "d94708c9-4991-4002-c053-1e41d433c5ff"
   },
   "outputs": [],
   "source": [
    "rssi_diff = [-5, -4, -3, -2, -1, 0, 1, 2, 3, 4, 5] # variaciones de RSSI a causa de mejor/peor HW\n",
    "X_train, X_test, y_train, y_test = train_test_split(X, y, test_size=0.2, random_state=42)\n",
    "\n",
    "names= [\"Nearest Neighbors\",\"Decision Tree\",\"Linear SVM\",\"Random Forest\",\"Neural Net\",\"AdaBoost\"]\n",
    "\n",
    "classifiers = [KNeighborsClassifier(3),DecisionTreeClassifier(max_depth=5),SVC(kernel=\"linear\", C=0.025, probability=True), DecisionTreeClassifier(max_depth=5),RandomForestClassifier(max_depth=5, n_estimators=10, max_features=1),MLPClassifier(alpha=1, max_iter=1000),\n",
    "            AdaBoostClassifier()]\n",
    "algorithms, youden = train_algorithms(X_train, y_train.ravel(), X_test, y_test.ravel(), names, classifiers)\n",
    "accuracy_rssi_diff_bracco = []\n",
    "\n",
    "for rssi in rssi_diff:\n",
    "    print(\"Variación de RSSI: \", rssi, \" dB\")\n",
    "\n",
    "    X_aux_test = deepcopy(X_test)\n",
    "    X_aux_test = X_aux_test + rssi\n",
    "\n",
    "    y_final = classify(algorithms, youden, X_aux_test)\n",
    "\n",
    "    ACC_test = accuracy_score(y_test, y_final)         \n",
    "    accuracy_rssi_diff_bracco.append(ACC_test)\n",
    "    print(ACC_test)\n",
    "print(accuracy_rssi_diff_bracco)"
   ]
  },
  {
   "cell_type": "markdown",
   "metadata": {
    "id": "SwovNzD_THq_"
   },
   "source": [
    "## Análisis de obstáculos"
   ]
  },
  {
   "cell_type": "markdown",
   "metadata": {
    "id": "niZBg5JGxD05"
   },
   "source": [
    "### GNN"
   ]
  },
  {
   "cell_type": "code",
   "execution_count": null,
   "metadata": {
    "colab": {
     "base_uri": "https://localhost:8080/"
    },
    "executionInfo": {
     "elapsed": 1025,
     "status": "ok",
     "timestamp": 1633041754950,
     "user": {
      "displayName": "Facundo Lezama",
      "photoUrl": "https://lh3.googleusercontent.com/a-/AOh14Gj2xw-0BdU_PRtXkRq8_4D7gmZ07lypfpXmvlaDQQ=s64",
      "userId": "08104556030349101598"
     },
     "user_tz": 180
    },
    "id": "hT9IZIucTHq_",
    "outputId": "eddc8133-f4ac-4799-d315-d945b4a1a36b"
   },
   "outputs": [],
   "source": [
    "lst = [0,1,2,3,4,5,6,7,8,9,10,11,12,13,14]\n",
    "obstaculos = [-10, -15] # dB\n",
    "X_train, X_test, y_train, y_test = train_test_split(X, y, test_size=0.2, random_state=42)\n",
    "\n",
    "for ap in lst:\n",
    "    print(\"AP con obstáculo:\", ap+1)    \n",
    "\n",
    "    for obstaculo in obstaculos:\n",
    "\n",
    "        X_aux_test = deepcopy(X_test)\n",
    "        X_aux_test[:,ap] += obstaculo\n",
    "        X_aux_test[:,ap+15] += obstaculo\n",
    "\n",
    "        x_test_data = np.reshape(X_aux_test,(X_aux_test.shape[0],2,15))\n",
    "        y_test_data = np.reshape(y_test,(y_test.shape[0],1,y_test.shape[1]))\n",
    "\n",
    "        x_test_data = x_test_data - mean\n",
    "        x_test_data /= std \n",
    "\n",
    "        test_data = torch.utils.data.TensorDataset(torch.from_numpy(x_test_data).float(), torch.from_numpy(y_test_data).float())\n",
    "        test_loader = torch.utils.data.DataLoader(dataset=test_data, batch_size=len(test_data), shuffle=False)\n",
    "\n",
    "        for x_batch, y_batch in test_loader:\n",
    "            x_batch, y_batch = x_batch.to(device), y_batch.to(device)\n",
    "            y_hattest = trained_gnn_model(x_batch)\n",
    "\n",
    "        m = torch.nn.Softmax(dim=1)\n",
    "        output = m(y_hattest).cpu()   \n",
    "        ACC_test = accuracy_score(y_test, np.array(torch.argmax(output, axis=1)))\n",
    "        print(\"     Obstaculo:\", obstaculo, \"dB --- \", \"Accuracy: \", np.mean(ACC_test))"
   ]
  },
  {
   "cell_type": "markdown",
   "metadata": {
    "id": "qSahRceUFB6N"
   },
   "source": [
    "### KNN"
   ]
  },
  {
   "cell_type": "code",
   "execution_count": null,
   "metadata": {
    "colab": {
     "base_uri": "https://localhost:8080/"
    },
    "executionInfo": {
     "elapsed": 14243,
     "status": "ok",
     "timestamp": 1635460470643,
     "user": {
      "displayName": "Facundo Lezama",
      "photoUrl": "https://lh3.googleusercontent.com/a-/AOh14GjvX7z6H8HKQ9Q4HSRF20NaPjvwtJ3pQh0TGed2XQ=s64",
      "userId": "08104556030349101598"
     },
     "user_tz": 180
    },
    "id": "s76f57VqFKcj",
    "outputId": "ee263fe2-ceb0-49d2-94af-02be99454d59"
   },
   "outputs": [],
   "source": [
    "lst = [0,1,2,3,4,5,6,7,8,9,10,11,12,13,14]\n",
    "obstaculos = [-10, -15] # dB\n",
    "X_train, X_test, y_train, y_test = train_test_split(X, y, test_size=0.2, random_state=42)\n",
    "\n",
    "neigh = KNeighborsClassifier(n_neighbors=3)\n",
    "neigh.fit(X_train, y_train.reshape(-1))\n",
    "\n",
    "for ap in lst:\n",
    "    print(\"AP con obstáculo:\", ap+1)    \n",
    "\n",
    "    for obstaculo in obstaculos:\n",
    "\n",
    "        X_aux_test = deepcopy(X_test)\n",
    "        X_aux_test[:,ap] += obstaculo\n",
    "        X_aux_test[:,ap+15] += obstaculo\n",
    "\n",
    "        y_pred_knn = neigh.predict(X_aux_test)\n",
    "\n",
    "        ACC_test = accuracy_score(y_test, y_pred_knn)\n",
    "        print(\"     Obstaculo:\", obstaculo, \"dB --- \", \"Accuracy: \", np.mean(ACC_test))"
   ]
  },
  {
   "cell_type": "markdown",
   "metadata": {
    "id": "KArl97-OFEOZ"
   },
   "source": [
    "### FCNN"
   ]
  },
  {
   "cell_type": "code",
   "execution_count": null,
   "metadata": {
    "colab": {
     "base_uri": "https://localhost:8080/"
    },
    "executionInfo": {
     "elapsed": 16193,
     "status": "ok",
     "timestamp": 1635460489703,
     "user": {
      "displayName": "Facundo Lezama",
      "photoUrl": "https://lh3.googleusercontent.com/a-/AOh14GjvX7z6H8HKQ9Q4HSRF20NaPjvwtJ3pQh0TGed2XQ=s64",
      "userId": "08104556030349101598"
     },
     "user_tz": 180
    },
    "id": "qjSmKRdtF7wh",
    "outputId": "477cf0b9-01ac-4bf2-8dcb-12adbdcc6027"
   },
   "outputs": [],
   "source": [
    "lst = [0,1,2,3,4,5,6,7,8,9,10,11,12,13,14]\n",
    "obstaculos = [-10, -15] # dB\n",
    "X_train, X_test, y_train, y_test = train_test_split(X, y, test_size=0.2, random_state=42)\n",
    "\n",
    "clf = MLPClassifier().fit(X_train, y_train)\n",
    "\n",
    "for ap in lst:\n",
    "    print(\"AP con obstáculo:\", ap+1)    \n",
    "\n",
    "    for obstaculo in obstaculos:\n",
    "\n",
    "        X_aux_test = deepcopy(X_test)\n",
    "        X_aux_test[:,ap] += obstaculo\n",
    "        X_aux_test[:,ap+15] += obstaculo\n",
    "\n",
    "        y_pred_fcnn = clf.predict(X_aux_test)\n",
    "\n",
    "        ACC_test = accuracy_score(y_test, y_pred_fcnn)\n",
    "        print(\"     Obstaculo:\", obstaculo, \"dB --- \", \"Accuracy: \", np.mean(ACC_test))"
   ]
  },
  {
   "cell_type": "markdown",
   "metadata": {
    "id": "iv98_fCbFGIa"
   },
   "source": [
    "### Bracco, etc"
   ]
  },
  {
   "cell_type": "code",
   "execution_count": null,
   "metadata": {
    "colab": {
     "base_uri": "https://localhost:8080/"
    },
    "executionInfo": {
     "elapsed": 34795,
     "status": "ok",
     "timestamp": 1635460532061,
     "user": {
      "displayName": "Facundo Lezama",
      "photoUrl": "https://lh3.googleusercontent.com/a-/AOh14GjvX7z6H8HKQ9Q4HSRF20NaPjvwtJ3pQh0TGed2XQ=s64",
      "userId": "08104556030349101598"
     },
     "user_tz": 180
    },
    "id": "Wt7GPKPkGIVb",
    "outputId": "e374afdf-47b0-4e25-c46d-ee4d8ec5782c"
   },
   "outputs": [],
   "source": [
    "lst = [0,1,2,3,4,5,6,7,8,9,10,11,12,13,14]\n",
    "obstaculos = [-10, -15] # dB\n",
    "X_train, X_test, y_train, y_test = train_test_split(X, y, test_size=0.2, random_state=42)\n",
    "\n",
    "names= [\"Nearest Neighbors\",\"Decision Tree\",\"Linear SVM\",\"Random Forest\",\"Neural Net\",\"AdaBoost\"]\n",
    "\n",
    "classifiers = [KNeighborsClassifier(3),DecisionTreeClassifier(max_depth=5),SVC(kernel=\"linear\", C=0.025, probability=True), DecisionTreeClassifier(max_depth=5),RandomForestClassifier(max_depth=5, n_estimators=10, max_features=1),MLPClassifier(alpha=1, max_iter=1000),\n",
    "            AdaBoostClassifier()]\n",
    "algorithms, youden = train_algorithms(X_train, y_train.ravel(), X_test, y_test.ravel(), names, classifiers)\n",
    "\n",
    "for ap in lst:\n",
    "    print(\"AP con obstáculo:\", ap+1)    \n",
    "\n",
    "    for obstaculo in obstaculos:\n",
    "\n",
    "        X_aux_test = deepcopy(X_test)\n",
    "        X_aux_test[:,ap] += obstaculo\n",
    "        X_aux_test[:,ap+15] += obstaculo\n",
    "\n",
    "        y_final = classify(algorithms, youden, X_aux_test)\n",
    "\n",
    "        ACC_test = accuracy_score(y_test, y_final) \n",
    "        print(\"     Obstaculo:\", obstaculo, \"dB --- \", \"Accuracy: \", np.mean(ACC_test))"
   ]
  },
  {
   "cell_type": "markdown",
   "metadata": {
    "id": "V5fnHhVyXMC4"
   },
   "source": [
    "## Análisis de deformaciones en GSO"
   ]
  },
  {
   "cell_type": "code",
   "execution_count": null,
   "metadata": {
    "colab": {
     "base_uri": "https://localhost:8080/"
    },
    "executionInfo": {
     "elapsed": 24371,
     "status": "ok",
     "timestamp": 1633041831521,
     "user": {
      "displayName": "Facundo Lezama",
      "photoUrl": "https://lh3.googleusercontent.com/a-/AOh14Gj2xw-0BdU_PRtXkRq8_4D7gmZ07lypfpXmvlaDQQ=s64",
      "userId": "08104556030349101598"
     },
     "user_tz": 180
    },
    "id": "R3KyWTJsXQ2-",
    "outputId": "0cf60865-210b-49bf-e8c6-9f909f0d430a"
   },
   "outputs": [],
   "source": [
    "lst = [0,1,2,3,4,5,6,7,8,9,10,11,12,13,14]\n",
    "obstaculos = [-10, -15] # dB\n",
    "X_train, X_test, y_train, y_test = train_test_split(X, y, test_size=0.2, random_state=42)\n",
    "\n",
    "for ap in lst:\n",
    "    print(\"AP con obstáculo:\", ap+1)    \n",
    "\n",
    "    for obstaculo in obstaculos:\n",
    "\n",
    "        X_aux_train = deepcopy(X_train)\n",
    "        X_aux_train[:,ap] += obstaculo\n",
    "        X_aux_train[:,ap+15] += obstaculo\n",
    "\n",
    "        new_graph, new_GSO = graph_creator(X_aux_train[:,:15], th=10) #el grafo lo armo solo con los datos de 2.4Ghz\n",
    "        trained_gnn_model.changeGSO(new_GSO)\n",
    "\n",
    "        X_aux_test = deepcopy(X_test)\n",
    "        X_aux_test[:,ap] += obstaculo\n",
    "        X_aux_test[:,ap+15] += obstaculo\n",
    "\n",
    "        x_test_data = np.reshape(X_aux_test,(X_aux_test.shape[0],2,15))\n",
    "        y_test_data = np.reshape(y_test,(y_test.shape[0],1,y_test.shape[1]))\n",
    "\n",
    "        x_test_data = x_test_data - mean\n",
    "        x_test_data /= std         \n",
    "\n",
    "        test_data = torch.utils.data.TensorDataset(torch.from_numpy(x_test_data).float(), torch.from_numpy(y_test_data).float())\n",
    "        test_loader = torch.utils.data.DataLoader(dataset=test_data, batch_size=len(test_data), shuffle=False)\n",
    "\n",
    "        for x_batch, y_batch in test_loader:\n",
    "            x_batch, y_batch = x_batch.to(device), y_batch.to(device)\n",
    "            y_hattest = trained_gnn_model(x_batch)\n",
    "\n",
    "        m = torch.nn.Softmax(dim=1)\n",
    "        output = m(y_hattest).cpu()   \n",
    "        ACC_test = accuracy_score(y_test, np.array(torch.argmax(output, axis=1)))\n",
    "        print(\"     Obstaculo:\", obstaculo, \"dB --- \", \"Accuracy: \", np.mean(ACC_test))"
   ]
  }
 ],
 "metadata": {
  "colab": {
   "collapsed_sections": [
    "n4qV8TIQYl62",
    "gfqVFAK32Th4",
    "fmC2Dsazdx7i",
    "YHsZyzkAZKlK",
    "gU46OaNwNj7Z",
    "P3QFKooiTRQF",
    "DdJpdEQmWRuO",
    "9Y6Zs61LXiik",
    "MTSumaDohl3K",
    "d2MElifG5G5q",
    "2EjKrCuHim66",
    "iSVeCEtNim7C",
    "1uwrgRzJim7D",
    "kpCBGsGe6J3Z",
    "Tb5Kdlky-4DN",
    "2cJTvncIOZ6I",
    "SwovNzD_THq_",
    "V5fnHhVyXMC4"
   ],
   "name": "tesis_mnav_simple_gnn.ipynb",
   "provenance": [
    {
     "file_id": "1AOWB0JuB1YtTUv8waFAYjdVb27Oi_zVw",
     "timestamp": 1617051239005
    },
    {
     "file_id": "1-veytfLbAuWzFrDTNxXhvsEfn8Th0D2K",
     "timestamp": 1616972473551
    },
    {
     "file_id": "1iQI9YVQL7SxQAvy2A4VAE8jJCv7nBfbI",
     "timestamp": 1615845377065
    }
   ]
  },
  "interpreter": {
   "hash": "feb5c0b0a29f8cb9ce82bbdb934224dc5d3b107b617c193c25692c16f2b91aa2"
  },
  "kernelspec": {
   "display_name": "Python 3 (ipykernel)",
   "language": "python",
   "name": "python3"
  },
  "language_info": {
   "codemirror_mode": {
    "name": "ipython",
    "version": 3
   },
   "file_extension": ".py",
   "mimetype": "text/x-python",
   "name": "python",
   "nbconvert_exporter": "python",
   "pygments_lexer": "ipython3",
   "version": "3.8.10"
  }
 },
 "nbformat": 4,
 "nbformat_minor": 4
}
